{
 "cells": [
  {
   "cell_type": "code",
   "execution_count": 1,
   "id": "9d2e58c2-f528-49a8-add7-cbb3c1a9c560",
   "metadata": {},
   "outputs": [],
   "source": [
    "import torch\n",
    "from torch import nn\n",
    "\n",
    "import math\n",
    "import matplotlib\n",
    "matplotlib.use('Agg')\n",
    "import matplotlib.pyplot as plt"
   ]
  },
  {
   "cell_type": "code",
   "execution_count": 2,
   "id": "bbed96ae-04e8-475c-b95f-6216e57c463c",
   "metadata": {},
   "outputs": [
    {
     "data": {
      "text/plain": [
       "<torch._C.Generator at 0x1ec34c03f30>"
      ]
     },
     "execution_count": 2,
     "metadata": {},
     "output_type": "execute_result"
    }
   ],
   "source": [
    "torch.manual_seed(1)"
   ]
  },
  {
   "cell_type": "code",
   "execution_count": 3,
   "id": "e44a0c93-ae06-43e4-841c-ac3a4ef3e3b0",
   "metadata": {},
   "outputs": [],
   "source": [
    "train_data_length = 1024\n",
    "train_data = torch.zeros((train_data_length, 2))\n",
    "train_data[:, 0] = 2 * math.pi * torch.rand(train_data_length)\n",
    "train_data[:, 1] = torch.sin(train_data[:, 0])\n",
    "train_labels = torch.zeros(train_data_length)\n",
    "train_set = [\n",
    "    (train_data[i], train_labels[i]) for i in range(train_data_length)\n",
    "]"
   ]
  },
  {
   "cell_type": "code",
   "execution_count": 4,
   "id": "350e7e18-b8e1-47b2-a2ab-a9934ac95fba",
   "metadata": {},
   "outputs": [
    {
     "data": {
      "text/plain": [
       "tensor([0., 0., 0.,  ..., 0., 0., 0.])"
      ]
     },
     "execution_count": 4,
     "metadata": {},
     "output_type": "execute_result"
    }
   ],
   "source": [
    "train_labels"
   ]
  },
  {
   "cell_type": "code",
   "execution_count": 5,
   "id": "2b177a5c-df5a-4c84-bef1-a291ec982171",
   "metadata": {},
   "outputs": [
    {
     "data": {
      "text/plain": [
       "[<matplotlib.lines.Line2D at 0x1ec39b7ce90>]"
      ]
     },
     "execution_count": 5,
     "metadata": {},
     "output_type": "execute_result"
    }
   ],
   "source": [
    "plt.plot(train_data[:, 0], train_data[:, 1], \".\")"
   ]
  },
  {
   "cell_type": "code",
   "execution_count": 6,
   "id": "daee5a6a-9161-4984-b1ed-337a0925ddd3",
   "metadata": {},
   "outputs": [],
   "source": [
    "batch_size = 32\n",
    "train_loader = torch.utils.data.DataLoader(\n",
    "    train_set, batch_size=batch_size, shuffle=True\n",
    ")"
   ]
  },
  {
   "cell_type": "code",
   "execution_count": 7,
   "id": "d4638888-fd16-4f12-b76d-e7e104c94124",
   "metadata": {},
   "outputs": [],
   "source": [
    "class Discriminator(nn.Module):\n",
    "    def __init__(self):\n",
    "        super().__init__()\n",
    "        self.model = nn.Sequential(\n",
    "            nn.Linear(2, 256),\n",
    "            nn.ReLU(),\n",
    "            nn.Dropout(0.3),\n",
    "            nn.Linear(256, 128),\n",
    "            nn.ReLU(),\n",
    "            nn.Dropout(0.3),\n",
    "            nn.Linear(128, 64),\n",
    "            nn.ReLU(),\n",
    "            nn.Dropout(0.3),\n",
    "            nn.Linear(64, 1),\n",
    "            nn.Sigmoid(),\n",
    "        )\n",
    "\n",
    "    def forward(self, x):\n",
    "        output = self.model(x)\n",
    "        return output"
   ]
  },
  {
   "cell_type": "code",
   "execution_count": 8,
   "id": "4914f9de-edaa-4d95-b0be-de36c4cd4230",
   "metadata": {},
   "outputs": [],
   "source": [
    "discriminator = Discriminator()"
   ]
  },
  {
   "cell_type": "code",
   "execution_count": 9,
   "id": "5b5fce61-cd8c-48e6-b95a-324a704ad266",
   "metadata": {},
   "outputs": [],
   "source": [
    "class Generator(nn.Module):\n",
    "    def __init__(self):\n",
    "        super().__init__()\n",
    "        self.model = nn.Sequential(\n",
    "            nn.Linear(2, 16),\n",
    "            nn.ReLU(),\n",
    "            nn.Linear(16, 32),\n",
    "            nn.ReLU(),\n",
    "            nn.Linear(32, 2),\n",
    "        )\n",
    "\n",
    "    def forward(self, x):\n",
    "        output = self.model(x)\n",
    "        return output\n",
    "\n",
    "generator = Generator()"
   ]
  },
  {
   "cell_type": "code",
   "execution_count": 10,
   "id": "ac4fb663-00dc-454b-88b8-2cab222c256a",
   "metadata": {},
   "outputs": [],
   "source": [
    "lr = 0.001\n",
    "num_epochs = 300\n",
    "loss_function = nn.BCELoss()"
   ]
  },
  {
   "cell_type": "code",
   "execution_count": 11,
   "id": "4f97b0a7-fe46-4afb-84a7-d37fd9b9d52b",
   "metadata": {},
   "outputs": [],
   "source": [
    "optimizer_discriminator = torch.optim.Adam(discriminator.parameters(), lr=lr)\n",
    "optimizer_generator = torch.optim.Adam(generator.parameters(), lr=lr)"
   ]
  },
  {
   "cell_type": "code",
   "execution_count": 12,
   "id": "f2fb0111-defd-4e0e-8da1-105b25efe908",
   "metadata": {},
   "outputs": [
    {
     "name": "stdout",
     "output_type": "stream",
     "text": [
      "Epoch: 0 Loss D.: 0.24032321572303772\n",
      "Epoch: 0 Loss G.: 2.227731704711914\n",
      "Epoch: 10 Loss D.: 0.6768372058868408\n",
      "Epoch: 10 Loss G.: 0.8582908511161804\n",
      "Epoch: 20 Loss D.: 0.6395218372344971\n",
      "Epoch: 20 Loss G.: 1.1333470344543457\n",
      "Epoch: 30 Loss D.: 0.7259066700935364\n",
      "Epoch: 30 Loss G.: 0.7502137422561646\n",
      "Epoch: 40 Loss D.: 0.6980507969856262\n",
      "Epoch: 40 Loss G.: 0.6755833625793457\n",
      "Epoch: 50 Loss D.: 0.6807307004928589\n",
      "Epoch: 50 Loss G.: 0.7314662933349609\n",
      "Epoch: 60 Loss D.: 0.6899004578590393\n",
      "Epoch: 60 Loss G.: 0.6731136441230774\n",
      "Epoch: 70 Loss D.: 0.7024956941604614\n",
      "Epoch: 70 Loss G.: 0.704626202583313\n",
      "Epoch: 80 Loss D.: 0.6843791007995605\n",
      "Epoch: 80 Loss G.: 0.6842287182807922\n",
      "Epoch: 90 Loss D.: 0.6455491185188293\n",
      "Epoch: 90 Loss G.: 0.803554892539978\n",
      "Epoch: 100 Loss D.: 0.6961420178413391\n",
      "Epoch: 100 Loss G.: 0.6905702948570251\n",
      "Epoch: 110 Loss D.: 0.690811276435852\n",
      "Epoch: 110 Loss G.: 0.6690704226493835\n",
      "Epoch: 120 Loss D.: 0.6924923658370972\n",
      "Epoch: 120 Loss G.: 0.6940162181854248\n",
      "Epoch: 130 Loss D.: 0.6975058317184448\n",
      "Epoch: 130 Loss G.: 0.9237309098243713\n",
      "Epoch: 140 Loss D.: 0.6603132486343384\n",
      "Epoch: 140 Loss G.: 0.6990116238594055\n",
      "Epoch: 150 Loss D.: 0.6522868871688843\n",
      "Epoch: 150 Loss G.: 0.8493595123291016\n",
      "Epoch: 160 Loss D.: 0.6625770330429077\n",
      "Epoch: 160 Loss G.: 0.7433557510375977\n",
      "Epoch: 170 Loss D.: 0.6498457193374634\n",
      "Epoch: 170 Loss G.: 0.8443483114242554\n",
      "Epoch: 180 Loss D.: 0.6985902786254883\n",
      "Epoch: 180 Loss G.: 0.7294692993164062\n",
      "Epoch: 190 Loss D.: 0.6889475584030151\n",
      "Epoch: 190 Loss G.: 0.7231532335281372\n",
      "Epoch: 200 Loss D.: 0.6777245998382568\n",
      "Epoch: 200 Loss G.: 0.6684555411338806\n",
      "Epoch: 210 Loss D.: 0.5937633514404297\n",
      "Epoch: 210 Loss G.: 1.1359286308288574\n",
      "Epoch: 220 Loss D.: 0.6851192712783813\n",
      "Epoch: 220 Loss G.: 0.7015131711959839\n",
      "Epoch: 230 Loss D.: 0.6856427788734436\n",
      "Epoch: 230 Loss G.: 0.7020577192306519\n",
      "Epoch: 240 Loss D.: 0.6848912239074707\n",
      "Epoch: 240 Loss G.: 0.6707781553268433\n",
      "Epoch: 250 Loss D.: 0.6774391531944275\n",
      "Epoch: 250 Loss G.: 0.7468335032463074\n",
      "Epoch: 260 Loss D.: 0.709057092666626\n",
      "Epoch: 260 Loss G.: 0.6562552452087402\n",
      "Epoch: 270 Loss D.: 0.6710919737815857\n",
      "Epoch: 270 Loss G.: 0.6780468821525574\n",
      "Epoch: 280 Loss D.: 0.7025644183158875\n",
      "Epoch: 280 Loss G.: 0.7244486212730408\n",
      "Epoch: 290 Loss D.: 0.697659969329834\n",
      "Epoch: 290 Loss G.: 0.7037581205368042\n"
     ]
    }
   ],
   "source": [
    "for epoch in range(num_epochs):\n",
    "    for n, (real_samples, _) in enumerate(train_loader):\n",
    "        # Data for training the discriminator\n",
    "        real_samples_labels = torch.ones((batch_size, 1))\n",
    "        latent_space_samples = torch.randn((batch_size, 2))\n",
    "        generated_samples = generator(latent_space_samples)\n",
    "        generated_samples_labels = torch.zeros((batch_size, 1))\n",
    "        all_samples = torch.cat((real_samples, generated_samples))\n",
    "        all_samples_labels = torch.cat(\n",
    "            (real_samples_labels, generated_samples_labels)\n",
    "        )\n",
    "\n",
    "        # Training the discriminator\n",
    "        discriminator.zero_grad()\n",
    "        output_discriminator = discriminator(all_samples)\n",
    "        loss_discriminator = loss_function(\n",
    "            output_discriminator, all_samples_labels)\n",
    "        loss_discriminator.backward()\n",
    "        optimizer_discriminator.step()\n",
    "\n",
    "        # Data for training the generator\n",
    "        latent_space_samples = torch.randn((batch_size, 2))\n",
    "\n",
    "        # Training the generator\n",
    "        generator.zero_grad()\n",
    "        generated_samples = generator(latent_space_samples)\n",
    "        output_discriminator_generated = discriminator(generated_samples)\n",
    "        loss_generator = loss_function(\n",
    "            output_discriminator_generated, real_samples_labels\n",
    "        )\n",
    "        loss_generator.backward()\n",
    "        optimizer_generator.step()\n",
    "\n",
    "        # Show loss\n",
    "        if epoch % 10 == 0 and n == batch_size - 1:\n",
    "            print(f\"Epoch: {epoch} Loss D.: {loss_discriminator}\")\n",
    "            print(f\"Epoch: {epoch} Loss G.: {loss_generator}\")"
   ]
  },
  {
   "cell_type": "code",
   "execution_count": 13,
   "id": "69f2bd0d-8a49-484a-84d4-664b61c35d0b",
   "metadata": {},
   "outputs": [],
   "source": [
    "latent_space_samples = torch.randn(100, 2)\n",
    "generated_samples = generator(latent_space_samples)"
   ]
  },
  {
   "cell_type": "code",
   "execution_count": 14,
   "id": "ee96796d-07b1-4ee9-b1d5-79949f089a22",
   "metadata": {},
   "outputs": [
    {
     "data": {
      "text/plain": [
       "[<matplotlib.lines.Line2D at 0x1ec3e109520>]"
      ]
     },
     "execution_count": 14,
     "metadata": {},
     "output_type": "execute_result"
    }
   ],
   "source": [
    "generated_samples = generated_samples.detach()\n",
    "plt.plot(generated_samples[:, 0], generated_samples[:, 1], \".\")"
   ]
  },
  {
   "cell_type": "code",
   "execution_count": 15,
   "id": "600c7d7e-be21-49de-9ef4-87f9378be4f3",
   "metadata": {},
   "outputs": [
    {
     "data": {
      "text/plain": [
       "tensor([[ 1.0972,  0.9353],\n",
       "        [ 3.7861, -0.5362],\n",
       "        [ 1.9094,  1.0108],\n",
       "        [ 1.7305,  1.0169],\n",
       "        [ 2.8937,  0.3262],\n",
       "        [ 0.3284,  0.3809],\n",
       "        [ 7.2420, -0.0284],\n",
       "        [ 0.6798,  0.6673],\n",
       "        [ 3.5401, -0.3008],\n",
       "        [ 3.8419, -0.5886],\n",
       "        [ 0.7306,  0.7132],\n",
       "        [ 4.9814, -1.0209],\n",
       "        [ 2.4591,  0.6952],\n",
       "        [ 6.4962, -0.1363],\n",
       "        [ 4.0299, -0.7586],\n",
       "        [ 2.6406,  0.5625],\n",
       "        [ 5.7852, -0.5178],\n",
       "        [ 6.3938, -0.2606],\n",
       "        [ 1.1104,  0.9396],\n",
       "        [ 3.7113, -0.4690],\n",
       "        [ 4.9523, -0.9905],\n",
       "        [ 3.6367, -0.3913],\n",
       "        [ 5.6782, -0.6718],\n",
       "        [ 1.8010,  1.0253],\n",
       "        [ 2.0489,  0.9510],\n",
       "        [ 4.9745, -1.0489],\n",
       "        [ 2.5648,  0.6199],\n",
       "        [ 2.1575,  0.8968],\n",
       "        [ 1.4427,  1.0346],\n",
       "        [ 0.6222,  0.6295],\n",
       "        [ 4.7314, -0.9987],\n",
       "        [ 2.9474,  0.2649],\n",
       "        [ 1.0631,  0.9216],\n",
       "        [ 2.8311,  0.3862],\n",
       "        [ 3.6361, -0.3876],\n",
       "        [ 3.9082, -0.6494],\n",
       "        [ 2.7754,  0.4429],\n",
       "        [ 3.2822, -0.0610],\n",
       "        [ 2.7590,  0.4555],\n",
       "        [ 2.0983,  0.9281],\n",
       "        [ 0.7513,  0.7245],\n",
       "        [ 6.0042, -0.4100],\n",
       "        [ 3.8321, -0.5787],\n",
       "        [ 0.9103,  0.8386],\n",
       "        [ 0.1404,  0.1712],\n",
       "        [ 4.7097, -0.9962],\n",
       "        [ 5.3768, -0.7843],\n",
       "        [ 1.6105,  1.0408],\n",
       "        [ 1.1341,  0.9471],\n",
       "        [ 4.2564, -0.8844],\n",
       "        [ 4.3412, -0.8967],\n",
       "        [ 4.8136, -1.0180],\n",
       "        [ 6.1385, -0.3858],\n",
       "        [ 3.3117, -0.0814],\n",
       "        [ 6.7002, -0.1079],\n",
       "        [ 5.0149, -1.0085],\n",
       "        [ 6.5655, -0.1049],\n",
       "        [ 6.2284, -0.3488],\n",
       "        [ 5.9191, -0.5366],\n",
       "        [ 4.3044, -0.8852],\n",
       "        [ 0.8829,  0.8207],\n",
       "        [ 3.7736, -0.5227],\n",
       "        [ 4.8142, -1.0220],\n",
       "        [ 4.4378, -0.9271],\n",
       "        [ 1.5348,  1.0488],\n",
       "        [ 2.6176,  0.5903],\n",
       "        [ 4.8388, -1.0255],\n",
       "        [ 6.5720, -0.0876],\n",
       "        [ 4.9945, -1.0219],\n",
       "        [ 1.8738,  1.0078],\n",
       "        [ 6.9825, -0.0505],\n",
       "        [ 3.2980, -0.0709],\n",
       "        [ 0.9364,  0.8503],\n",
       "        [ 1.7135,  1.0480],\n",
       "        [ 4.7939, -1.0142],\n",
       "        [ 2.5743,  0.6095],\n",
       "        [ 4.9948, -0.9987],\n",
       "        [ 1.6499,  1.0461],\n",
       "        [ 0.6748,  0.6699],\n",
       "        [ 5.6652, -0.6601],\n",
       "        [ 4.0280, -0.7577],\n",
       "        [ 3.6905, -0.4405],\n",
       "        [ 2.8292,  0.3943],\n",
       "        [ 6.3441, -0.2961],\n",
       "        [ 4.6755, -0.9813],\n",
       "        [ 0.7418,  0.7176],\n",
       "        [ 2.6997,  0.5080],\n",
       "        [ 0.6839,  0.6756],\n",
       "        [ 0.8884,  0.8246],\n",
       "        [ 3.9648, -0.7058],\n",
       "        [ 3.1951,  0.0293],\n",
       "        [ 3.8009, -0.5542],\n",
       "        [ 0.7738,  0.7389],\n",
       "        [ 1.1073,  0.9395],\n",
       "        [ 3.6254, -0.3807],\n",
       "        [ 0.3887,  0.4511],\n",
       "        [ 5.5263, -0.7392],\n",
       "        [ 3.0541,  0.1635],\n",
       "        [ 5.7323, -0.5724],\n",
       "        [ 1.4925,  1.0459]])"
      ]
     },
     "execution_count": 15,
     "metadata": {},
     "output_type": "execute_result"
    }
   ],
   "source": [
    "generated_samples"
   ]
  },
  {
   "cell_type": "code",
   "execution_count": null,
   "id": "ae63930d-02e4-41f2-a442-bffe3949acb8",
   "metadata": {},
   "outputs": [],
   "source": []
  }
 ],
 "metadata": {
  "kernelspec": {
   "display_name": "Python 3 (ipykernel)",
   "language": "python",
   "name": "python3"
  },
  "language_info": {
   "codemirror_mode": {
    "name": "ipython",
    "version": 3
   },
   "file_extension": ".py",
   "mimetype": "text/x-python",
   "name": "python",
   "nbconvert_exporter": "python",
   "pygments_lexer": "ipython3",
   "version": "3.12.7"
  }
 },
 "nbformat": 4,
 "nbformat_minor": 5
}

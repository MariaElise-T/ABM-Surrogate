{
 "cells": [
  {
   "cell_type": "code",
   "execution_count": null,
   "id": "19ca604a-fce8-447e-b3b1-0ea519656dd5",
   "metadata": {},
   "outputs": [],
   "source": []
  }
 ],
 "metadata": {
  "kernelspec": {
   "display_name": "",
   "name": ""
  },
  "language_info": {
   "name": ""
  }
 },
 "nbformat": 4,
 "nbformat_minor": 5
}

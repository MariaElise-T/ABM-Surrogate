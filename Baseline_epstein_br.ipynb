{
 "cells": [
  {
   "cell_type": "code",
   "execution_count": 2,
   "id": "b9a4df50-4b5b-42d1-8541-1a00bfccac15",
   "metadata": {},
   "outputs": [
    {
     "name": "stdout",
     "output_type": "stream",
     "text": [
      "3.2.1.dev\n",
      "C:\\Users\\met48\\AppData\\Local\\anaconda3\\Lib\\site-packages\\mesa\\__init__.py\n",
      "Mesa directory: C:\\Users\\met48\\AppData\\Local\\anaconda3\\Lib\\site-packages\\mesa\n",
      "Contents: ['agent.py', 'batchrunner.py', 'datacollection.py', 'discrete_space', 'examples', 'experimental', 'mesa_logging.py', 'model.py', 'space.py', 'visualization', '__init__.py', '__pycache__']\n"
     ]
    }
   ],
   "source": [
    "import mesa\n",
    "import os\n",
    "\n",
    "mesa_dir = os.path.dirname(mesa.__file__)\n",
    "print(mesa.__version__)\n",
    "print(mesa.__file__)\n",
    "print(\"Mesa directory:\", mesa_dir)\n",
    "print(\"Contents:\", os.listdir(mesa_dir))\n",
    "import random\n",
    "random.seed(0)\n",
    "import warnings\n",
    "warnings.filterwarnings(\"ignore\")\n",
    "import sys\n",
    "import numpy as np\n",
    "import pandas as pd\n",
    "\n",
    "sys.path.append(\"C:/Users/met48/Desktop/TS-Clustering/mesa-examples-main/mesa-examples-main/examples/bank_reserves/\") \n",
    "from bank_reserves import random_walk as bankReservesRandomWalk\n",
    "from bank_reserves import agents as bankReservesAgent\n",
    "from bank_reserves import model as bankReservesModel\n",
    "\n",
    "sys.path.append(\"C:/Users/met48/Desktop/TS-Clustering/mesa-examples-main/mesa-examples-main/examples/epstein_civil_violence/\") \n",
    "from epstein_civil_violence import __init__ as epsteinInit\n",
    "from epstein_civil_violence import agent as epsteinCVAgent\n",
    "from epstein_civil_violence import model as epsteinCVModel"
   ]
  },
  {
   "cell_type": "code",
   "execution_count": 2,
   "id": "a36a60ea-5a48-4ee5-899d-fd0cf0958239",
   "metadata": {},
   "outputs": [],
   "source": [
    "def generate_epstein_samples(inputs):  \n",
    "    all_outputs = []\n",
    "\n",
    "    for i in range(len(inputs)):\n",
    "        row = inputs.iloc[i]\n",
    "        cit_dens = row[0]\n",
    "        cop_dens = row[1]\n",
    "        leg = row[2]\n",
    "        \n",
    "        # Run the Epstein model\n",
    "        bankRes = epsteinCVModel.EpsteinCivilViolence(\n",
    "            citizen_density=cit_dens,\n",
    "            cop_density=cop_dens,\n",
    "            citizen_vision=5,\n",
    "            cop_vision=5,\n",
    "            legitimacy=leg,\n",
    "            max_jail_term=30,\n",
    "            active_threshold=0.1,\n",
    "            arrest_prob_constant=2.3,\n",
    "            movement=True,\n",
    "            max_iters=250\n",
    "        )\n",
    "        bankRes.run_model()\n",
    "\n",
    "        # Collect the time series of \"Active\" agents\n",
    "        results = bankRes.datacollector.get_model_vars_dataframe()\n",
    "        active_series = results['Active'].to_list()\n",
    "\n",
    "        # Add to list of all outputs\n",
    "        all_outputs.append(active_series)\n",
    "\n",
    "    # Convert to DataFrame: each row = one run, columns = time steps\n",
    "    outputs_df = pd.DataFrame(all_outputs)\n",
    "    return outputs_df\n"
   ]
  },
  {
   "cell_type": "code",
   "execution_count": 3,
   "id": "62634efd-1fbc-4fc3-8f0b-f56b934b5be4",
   "metadata": {},
   "outputs": [],
   "source": [
    "def generate_br_samples(inputs):\n",
    "    all_outputs = []\n",
    "\n",
    "    for i in range(len(inputs)):\n",
    "        row = inputs.iloc[i]\n",
    "        reserve_perc = row[0]\n",
    "        \n",
    "        # Run the Epstein model\n",
    "        bankRes = bankReservesModel.BankReserves(init_people=500, rich_threshold=10, reserve_percent=reserve_perc)\n",
    "        bankRes.run_model()\n",
    "\n",
    "        # Collect the time series of \"Active\" agents        \n",
    "        results = bankRes.datacollector.get_model_vars_dataframe()\n",
    "        active_series = results['Poor'].to_list()\n",
    "\n",
    "        # Add to list of all outputs\n",
    "        all_outputs.append(active_series)\n",
    "\n",
    "    # Convert to DataFrame: each row = one run, columns = time steps\n",
    "    outputs_df = pd.DataFrame(all_outputs)\n",
    "    return outputs_df"
   ]
  },
  {
   "cell_type": "code",
   "execution_count": 4,
   "id": "49a61952-371b-413d-a20f-2f4215304def",
   "metadata": {},
   "outputs": [],
   "source": [
    "def evaluate_model_gan(real_samples, generated_samples):\n",
    "\n",
    "    # convert list to numpy arrays\n",
    "    predicted_values = generated_samples.cpu().numpy()  # [N, 255, 1]\n",
    "    true_values = real_samples.cpu().numpy()            # [N, 255, 1]\n",
    "\n",
    "    # flatten for metrics\n",
    "    y_pred_flat = predicted_values.flatten()\n",
    "    y_true_flat = true_values.flatten()\n",
    "    \n",
    "    # compute evaluation metrics\n",
    "    mse = mean_squared_error(y_true_flat, y_pred_flat)\n",
    "    mae = mean_absolute_error(y_true_flat, y_pred_flat)\n",
    "    r2 = r2_score(y_true_flat, y_pred_flat)\n",
    "\n",
    "    print(f\"Validation MSE: {mse:.6f}\")\n",
    "    print(f\"Validation MAE: {mae:.6f}\")\n",
    "    print(f\"Validation R² Score: {r2:.6f}\")\n",
    "\n",
    "    return mse, mae, r2"
   ]
  },
  {
   "cell_type": "code",
   "execution_count": 5,
   "id": "e32ca252-5604-4d20-9d1d-1641eb3953d5",
   "metadata": {},
   "outputs": [],
   "source": [
    "valid_inputs_epstein = pd.read_csv(\"valid_inputs_epstein.csv\")\n",
    "valid_outputs_epstein = pd.read_csv(\"valid_outputs_epstein.csv\")"
   ]
  },
  {
   "cell_type": "code",
   "execution_count": 6,
   "id": "9a4f4bd3-9f0a-4c7e-9001-b335f10e4e8f",
   "metadata": {},
   "outputs": [],
   "source": [
    "valid_inputs_br = pd.read_csv(\"valid_inputs_br.csv\")\n",
    "valid_outputs_br = pd.read_csv(\"valid_outputs_br.csv\")"
   ]
  },
  {
   "cell_type": "code",
   "execution_count": 7,
   "id": "8d314dea-020d-4e08-adca-50cc3177d129",
   "metadata": {},
   "outputs": [
    {
     "ename": "AttributeError",
     "evalue": "module 'mesa' has no attribute 'time'",
     "output_type": "error",
     "traceback": [
      "\u001b[1;31m---------------------------------------------------------------------------\u001b[0m",
      "\u001b[1;31mAttributeError\u001b[0m                            Traceback (most recent call last)",
      "Cell \u001b[1;32mIn[7], line 1\u001b[0m\n\u001b[1;32m----> 1\u001b[0m generate_epstein_samples(valid_inputs_epstein)\n",
      "Cell \u001b[1;32mIn[2], line 11\u001b[0m, in \u001b[0;36mgenerate_epstein_samples\u001b[1;34m(inputs)\u001b[0m\n\u001b[0;32m      8\u001b[0m leg \u001b[38;5;241m=\u001b[39m row[\u001b[38;5;241m2\u001b[39m]\n\u001b[0;32m     10\u001b[0m \u001b[38;5;66;03m# Run the Epstein model\u001b[39;00m\n\u001b[1;32m---> 11\u001b[0m bankRes \u001b[38;5;241m=\u001b[39m epsteinCVModel\u001b[38;5;241m.\u001b[39mEpsteinCivilViolence(\n\u001b[0;32m     12\u001b[0m     citizen_density\u001b[38;5;241m=\u001b[39mcit_dens,\n\u001b[0;32m     13\u001b[0m     cop_density\u001b[38;5;241m=\u001b[39mcop_dens,\n\u001b[0;32m     14\u001b[0m     citizen_vision\u001b[38;5;241m=\u001b[39m\u001b[38;5;241m5\u001b[39m,\n\u001b[0;32m     15\u001b[0m     cop_vision\u001b[38;5;241m=\u001b[39m\u001b[38;5;241m5\u001b[39m,\n\u001b[0;32m     16\u001b[0m     legitimacy\u001b[38;5;241m=\u001b[39mleg,\n\u001b[0;32m     17\u001b[0m     max_jail_term\u001b[38;5;241m=\u001b[39m\u001b[38;5;241m30\u001b[39m,\n\u001b[0;32m     18\u001b[0m     active_threshold\u001b[38;5;241m=\u001b[39m\u001b[38;5;241m0.1\u001b[39m,\n\u001b[0;32m     19\u001b[0m     arrest_prob_constant\u001b[38;5;241m=\u001b[39m\u001b[38;5;241m2.3\u001b[39m,\n\u001b[0;32m     20\u001b[0m     movement\u001b[38;5;241m=\u001b[39m\u001b[38;5;28;01mTrue\u001b[39;00m,\n\u001b[0;32m     21\u001b[0m     max_iters\u001b[38;5;241m=\u001b[39m\u001b[38;5;241m250\u001b[39m\n\u001b[0;32m     22\u001b[0m )\n\u001b[0;32m     23\u001b[0m bankRes\u001b[38;5;241m.\u001b[39mrun_model()\n\u001b[0;32m     25\u001b[0m \u001b[38;5;66;03m# Collect the time series of \"Active\" agents\u001b[39;00m\n",
      "File \u001b[1;32mC:\\Users/met48/Desktop/TS-Clustering/mesa-examples-main/mesa-examples-main/examples/epstein_civil_violence\\epstein_civil_violence\\model.py:61\u001b[0m, in \u001b[0;36mEpsteinCivilViolence.__init__\u001b[1;34m(self, width, height, citizen_density, cop_density, citizen_vision, cop_vision, legitimacy, max_jail_term, active_threshold, arrest_prob_constant, movement, max_iters)\u001b[0m\n\u001b[0;32m     59\u001b[0m \u001b[38;5;28mself\u001b[39m\u001b[38;5;241m.\u001b[39mmax_iters \u001b[38;5;241m=\u001b[39m max_iters\n\u001b[0;32m     60\u001b[0m \u001b[38;5;28mself\u001b[39m\u001b[38;5;241m.\u001b[39miteration \u001b[38;5;241m=\u001b[39m \u001b[38;5;241m0\u001b[39m\n\u001b[1;32m---> 61\u001b[0m \u001b[38;5;28mself\u001b[39m\u001b[38;5;241m.\u001b[39mschedule \u001b[38;5;241m=\u001b[39m mesa\u001b[38;5;241m.\u001b[39mtime\u001b[38;5;241m.\u001b[39mRandomActivation(\u001b[38;5;28mself\u001b[39m)\n\u001b[0;32m     62\u001b[0m \u001b[38;5;28mself\u001b[39m\u001b[38;5;241m.\u001b[39mgrid \u001b[38;5;241m=\u001b[39m mesa\u001b[38;5;241m.\u001b[39mspace\u001b[38;5;241m.\u001b[39mSingleGrid(width, height, torus\u001b[38;5;241m=\u001b[39m\u001b[38;5;28;01mTrue\u001b[39;00m)\n\u001b[0;32m     64\u001b[0m model_reporters \u001b[38;5;241m=\u001b[39m {\n\u001b[0;32m     65\u001b[0m     \u001b[38;5;124m\"\u001b[39m\u001b[38;5;124mQuiescent\u001b[39m\u001b[38;5;124m\"\u001b[39m: \u001b[38;5;28;01mlambda\u001b[39;00m m: \u001b[38;5;28mself\u001b[39m\u001b[38;5;241m.\u001b[39mcount_type_citizens(m, \u001b[38;5;124m\"\u001b[39m\u001b[38;5;124mQuiescent\u001b[39m\u001b[38;5;124m\"\u001b[39m),\n\u001b[0;32m     66\u001b[0m     \u001b[38;5;124m\"\u001b[39m\u001b[38;5;124mActive\u001b[39m\u001b[38;5;124m\"\u001b[39m: \u001b[38;5;28;01mlambda\u001b[39;00m m: \u001b[38;5;28mself\u001b[39m\u001b[38;5;241m.\u001b[39mcount_type_citizens(m, \u001b[38;5;124m\"\u001b[39m\u001b[38;5;124mActive\u001b[39m\u001b[38;5;124m\"\u001b[39m),\n\u001b[0;32m     67\u001b[0m     \u001b[38;5;124m\"\u001b[39m\u001b[38;5;124mJailed\u001b[39m\u001b[38;5;124m\"\u001b[39m: \u001b[38;5;28mself\u001b[39m\u001b[38;5;241m.\u001b[39mcount_jailed,\n\u001b[0;32m     68\u001b[0m     \u001b[38;5;124m\"\u001b[39m\u001b[38;5;124mCops\u001b[39m\u001b[38;5;124m\"\u001b[39m: \u001b[38;5;28mself\u001b[39m\u001b[38;5;241m.\u001b[39mcount_cops,\n\u001b[0;32m     69\u001b[0m }\n",
      "\u001b[1;31mAttributeError\u001b[0m: module 'mesa' has no attribute 'time'"
     ]
    }
   ],
   "source": [
    "generate_epstein_samples(valid_inputs_epstein)"
   ]
  },
  {
   "cell_type": "code",
   "execution_count": 2,
   "id": "e1ae8df6-ed67-4a8b-8ef5-993e5b1aea0f",
   "metadata": {},
   "outputs": [
    {
     "ename": "NameError",
     "evalue": "name 'generate_br_samples' is not defined",
     "output_type": "error",
     "traceback": [
      "\u001b[1;31m---------------------------------------------------------------------------\u001b[0m",
      "\u001b[1;31mNameError\u001b[0m                                 Traceback (most recent call last)",
      "Cell \u001b[1;32mIn[2], line 1\u001b[0m\n\u001b[1;32m----> 1\u001b[0m generate_br_samples(valid_inputs_br)\n",
      "\u001b[1;31mNameError\u001b[0m: name 'generate_br_samples' is not defined"
     ]
    }
   ],
   "source": [
    "generate_br_samples(valid_inputs_br)"
   ]
  },
  {
   "cell_type": "code",
   "execution_count": null,
   "id": "7f823da2-3e10-48d6-9884-614d21026add",
   "metadata": {},
   "outputs": [],
   "source": []
  }
 ],
 "metadata": {
  "kernelspec": {
   "display_name": "Python 3 (ipykernel)",
   "language": "python",
   "name": "python3"
  },
  "language_info": {
   "codemirror_mode": {
    "name": "ipython",
    "version": 3
   },
   "file_extension": ".py",
   "mimetype": "text/x-python",
   "name": "python",
   "nbconvert_exporter": "python",
   "pygments_lexer": "ipython3",
   "version": "3.12.7"
  }
 },
 "nbformat": 4,
 "nbformat_minor": 5
}

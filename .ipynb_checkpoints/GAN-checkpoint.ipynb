{
 "cells": [
  {
   "cell_type": "code",
   "execution_count": null,
   "id": "88ceb366-b971-4bca-8b06-6a942c97ef3e",
   "metadata": {},
   "outputs": [],
   "source": [
    "import matplotlib\n",
    "matplotlib.use('Agg')  # Non-interactive, no GUI\n",
    "import matplotlib.pyplot as plt\n",
    "\n",
    "# Save the plot instead of showing it\n",
    "import torch\n",
    "data = torch.tensor([\n",
    "    [1.0, 2.0],\n",
    "    [2.0, 3.0],\n",
    "    [3.0, 2.5],\n",
    "    [4.0, 4.0]\n",
    "])\n",
    "\n",
    "plt.plot(data[:, 0], data[:, 1])\n",
    "plt.title(\"Sanity Check\")\n",
    "plt.savefig(\"sanity_plot.png\")"
   ]
  },
  {
   "cell_type": "code",
   "execution_count": null,
   "id": "5e7c8d9f-f121-4c32-ac4f-d46fa03d4640",
   "metadata": {},
   "outputs": [],
   "source": [
    "import torch\n",
    "import matplotlib.pyplot as plt\n",
    "\n",
    "# Sanity test: small 2D tensor\n",
    "data = torch.tensor([\n",
    "    [1.0, 2.0],\n",
    "    [2.0, 3.0],\n",
    "    [3.0, 2.5],\n",
    "    [4.0, 4.0]\n",
    "])\n",
    "\n",
    "# Simple plot\n",
    "plt.plot(data[:, 0], data[:, 1])\n",
    "plt.xlabel(\"X\")\n",
    "plt.ylabel(\"Y\")\n",
    "plt.title(\"Sanity Check Plot\")\n",
    "plt.grid(True)\n",
    "plt.show()"
   ]
  },
  {
   "cell_type": "code",
   "execution_count": 2,
   "id": "9d2e58c2-f528-49a8-add7-cbb3c1a9c560",
   "metadata": {},
   "outputs": [],
   "source": [
    "import torch\n",
    "from torch import nn\n",
    "import math\n",
    "import matplotlib.pyplot as plt"
   ]
  },
  {
   "cell_type": "code",
   "execution_count": 3,
   "id": "bbed96ae-04e8-475c-b95f-6216e57c463c",
   "metadata": {},
   "outputs": [
    {
     "data": {
      "text/plain": [
       "<torch._C.Generator at 0x1f9458a02b0>"
      ]
     },
     "execution_count": 3,
     "metadata": {},
     "output_type": "execute_result"
    }
   ],
   "source": [
    "torch.manual_seed(1)"
   ]
  },
  {
   "cell_type": "code",
   "execution_count": 4,
   "id": "e44a0c93-ae06-43e4-841c-ac3a4ef3e3b0",
   "metadata": {},
   "outputs": [
    {
     "data": {
      "text/plain": [
       "torch.Size([1024, 2])"
      ]
     },
     "execution_count": 4,
     "metadata": {},
     "output_type": "execute_result"
    }
   ],
   "source": [
    "train_data_length = 1024\n",
    "train_data = torch.zeros((train_data_length, 2))\n",
    "train_data[:, 0] = 2 * math.pi * torch.rand(train_data_length)\n",
    "train_data[:, 1] = torch.sin(train_data[:, 0])\n",
    "train_labels = torch.zeros(train_data_length)\n",
    "train_set = [\n",
    "    (train_data[i], train_labels[i]) for i in range(train_data_length)\n",
    "]\n",
    "train_data.shape"
   ]
  },
  {
   "cell_type": "code",
   "execution_count": 4,
   "id": "350e7e18-b8e1-47b2-a2ab-a9934ac95fba",
   "metadata": {},
   "outputs": [
    {
     "data": {
      "text/plain": [
       "tensor([0., 0., 0.,  ..., 0., 0., 0.])"
      ]
     },
     "execution_count": 4,
     "metadata": {},
     "output_type": "execute_result"
    }
   ],
   "source": [
    "train_labels"
   ]
  },
  {
   "cell_type": "code",
   "execution_count": 5,
   "id": "cc9c36e2-7fbd-4430-8e91-bb2e11700fe6",
   "metadata": {},
   "outputs": [
    {
     "name": "stdout",
     "output_type": "stream",
     "text": [
      "torch.Size([1024, 2])\n",
      "cpu\n",
      "tensor([[ 4.7603, -0.9989],\n",
      "        [ 1.7550,  0.9831],\n",
      "        [ 2.5326,  0.5721],\n",
      "        ...,\n",
      "        [ 3.0366,  0.1048],\n",
      "        [ 2.1415,  0.8415],\n",
      "        [ 1.1515,  0.9134]])\n"
     ]
    }
   ],
   "source": [
    "print(train_data.shape)\n",
    "print(train_data.device)\n",
    "print(train_data)"
   ]
  },
  {
   "cell_type": "code",
   "execution_count": null,
   "id": "dcda182f-b081-4902-9378-bad893a89ad5",
   "metadata": {},
   "outputs": [],
   "source": [
    "plt.scatter(train_data[:, 0], train_data[:, 1], s=5)\n",
    "plt.xlabel(\"X\")\n",
    "plt.ylabel(\"Y\")\n",
    "plt.title(\"Scatter Plot of 2D Points\")\n",
    "plt.show()"
   ]
  },
  {
   "cell_type": "code",
   "execution_count": null,
   "id": "2b177a5c-df5a-4c84-bef1-a291ec982171",
   "metadata": {},
   "outputs": [],
   "source": [
    "plt.plot(train_data[:, 0], train_data[:, 1], \".\")\n",
    "plt.show() "
   ]
  },
  {
   "cell_type": "code",
   "execution_count": 6,
   "id": "daee5a6a-9161-4984-b1ed-337a0925ddd3",
   "metadata": {},
   "outputs": [],
   "source": [
    "batch_size = 32\n",
    "train_loader = torch.utils.data.DataLoader(\n",
    "    train_set, batch_size=batch_size, shuffle=True\n",
    ")"
   ]
  },
  {
   "cell_type": "code",
   "execution_count": 7,
   "id": "d4638888-fd16-4f12-b76d-e7e104c94124",
   "metadata": {},
   "outputs": [],
   "source": [
    "class Discriminator(nn.Module):\n",
    "    def __init__(self):\n",
    "        super().__init__()\n",
    "        self.model = nn.Sequential(\n",
    "            nn.Linear(2, 256),\n",
    "            nn.ReLU(),\n",
    "            nn.Dropout(0.3),\n",
    "            nn.Linear(256, 128),\n",
    "            nn.ReLU(),\n",
    "            nn.Dropout(0.3),\n",
    "            nn.Linear(128, 64),\n",
    "            nn.ReLU(),\n",
    "            nn.Dropout(0.3),\n",
    "            nn.Linear(64, 1),\n",
    "            nn.Sigmoid(),\n",
    "        )\n",
    "\n",
    "    def forward(self, x):\n",
    "        output = self.model(x)\n",
    "        return output"
   ]
  },
  {
   "cell_type": "code",
   "execution_count": 8,
   "id": "4914f9de-edaa-4d95-b0be-de36c4cd4230",
   "metadata": {},
   "outputs": [],
   "source": [
    "discriminator = Discriminator()"
   ]
  },
  {
   "cell_type": "code",
   "execution_count": 9,
   "id": "5b5fce61-cd8c-48e6-b95a-324a704ad266",
   "metadata": {},
   "outputs": [],
   "source": [
    "class Generator(nn.Module):\n",
    "    def __init__(self):\n",
    "        super().__init__()\n",
    "        self.model = nn.Sequential(\n",
    "            nn.Linear(2, 16),\n",
    "            nn.ReLU(),\n",
    "            nn.Linear(16, 32),\n",
    "            nn.ReLU(),\n",
    "            nn.Linear(32, 2),\n",
    "        )\n",
    "\n",
    "    def forward(self, x):\n",
    "        output = self.model(x)\n",
    "        return output\n",
    "\n",
    "generator = Generator()"
   ]
  },
  {
   "cell_type": "code",
   "execution_count": 10,
   "id": "ac4fb663-00dc-454b-88b8-2cab222c256a",
   "metadata": {},
   "outputs": [],
   "source": [
    "lr = 0.001\n",
    "num_epochs = 300\n",
    "loss_function = nn.BCELoss()"
   ]
  },
  {
   "cell_type": "code",
   "execution_count": 11,
   "id": "4f97b0a7-fe46-4afb-84a7-d37fd9b9d52b",
   "metadata": {},
   "outputs": [],
   "source": [
    "optimizer_discriminator = torch.optim.Adam(discriminator.parameters(), lr=lr)\n",
    "optimizer_generator = torch.optim.Adam(generator.parameters(), lr=lr)"
   ]
  },
  {
   "cell_type": "code",
   "execution_count": 12,
   "id": "f2fb0111-defd-4e0e-8da1-105b25efe908",
   "metadata": {},
   "outputs": [
    {
     "name": "stdout",
     "output_type": "stream",
     "text": [
      "Epoch: 0 Loss D.: 0.24032321572303772\n",
      "Epoch: 0 Loss G.: 2.227731466293335\n",
      "Epoch: 10 Loss D.: 0.6768372058868408\n",
      "Epoch: 10 Loss G.: 0.8582908511161804\n",
      "Epoch: 20 Loss D.: 0.6395218372344971\n",
      "Epoch: 20 Loss G.: 1.1333469152450562\n",
      "Epoch: 30 Loss D.: 0.7259066104888916\n",
      "Epoch: 30 Loss G.: 0.7502138614654541\n",
      "Epoch: 40 Loss D.: 0.698050856590271\n",
      "Epoch: 40 Loss G.: 0.6755833029747009\n",
      "Epoch: 50 Loss D.: 0.6791377663612366\n",
      "Epoch: 50 Loss G.: 0.7212958335876465\n",
      "Epoch: 60 Loss D.: 0.6789308190345764\n",
      "Epoch: 60 Loss G.: 0.7021872997283936\n",
      "Epoch: 70 Loss D.: 0.6948771476745605\n",
      "Epoch: 70 Loss G.: 0.6239566802978516\n",
      "Epoch: 80 Loss D.: 0.6906977891921997\n",
      "Epoch: 80 Loss G.: 0.6636168956756592\n",
      "Epoch: 90 Loss D.: 0.66363525390625\n",
      "Epoch: 90 Loss G.: 0.7764437198638916\n",
      "Epoch: 100 Loss D.: 0.7190923690795898\n",
      "Epoch: 100 Loss G.: 0.6860860586166382\n",
      "Epoch: 110 Loss D.: 0.6613975763320923\n",
      "Epoch: 110 Loss G.: 0.7114980220794678\n",
      "Epoch: 120 Loss D.: 0.6866812705993652\n",
      "Epoch: 120 Loss G.: 0.7393763661384583\n",
      "Epoch: 130 Loss D.: 0.7073099613189697\n",
      "Epoch: 130 Loss G.: 0.6679775714874268\n",
      "Epoch: 140 Loss D.: 0.667961597442627\n",
      "Epoch: 140 Loss G.: 0.6778101921081543\n",
      "Epoch: 150 Loss D.: 0.7045479416847229\n",
      "Epoch: 150 Loss G.: 0.715496838092804\n",
      "Epoch: 160 Loss D.: 0.6543880105018616\n",
      "Epoch: 160 Loss G.: 0.815613329410553\n",
      "Epoch: 170 Loss D.: 0.6662757992744446\n",
      "Epoch: 170 Loss G.: 0.8161201477050781\n",
      "Epoch: 180 Loss D.: 0.6469240784645081\n",
      "Epoch: 180 Loss G.: 0.9080512523651123\n",
      "Epoch: 190 Loss D.: 0.6086040139198303\n",
      "Epoch: 190 Loss G.: 0.896693229675293\n",
      "Epoch: 200 Loss D.: 0.6610487699508667\n",
      "Epoch: 200 Loss G.: 0.7088626623153687\n",
      "Epoch: 210 Loss D.: 0.677575945854187\n",
      "Epoch: 210 Loss G.: 0.698545515537262\n",
      "Epoch: 220 Loss D.: 0.6819161772727966\n",
      "Epoch: 220 Loss G.: 0.6970177888870239\n",
      "Epoch: 230 Loss D.: 0.6836785078048706\n",
      "Epoch: 230 Loss G.: 0.7018462419509888\n",
      "Epoch: 240 Loss D.: 0.6781776547431946\n",
      "Epoch: 240 Loss G.: 0.7120993733406067\n",
      "Epoch: 250 Loss D.: 0.6814866662025452\n",
      "Epoch: 250 Loss G.: 0.8328840732574463\n",
      "Epoch: 260 Loss D.: 0.6018427014350891\n",
      "Epoch: 260 Loss G.: 0.887284517288208\n",
      "Epoch: 270 Loss D.: 0.6852506995201111\n",
      "Epoch: 270 Loss G.: 0.7504410147666931\n",
      "Epoch: 280 Loss D.: 0.6917890310287476\n",
      "Epoch: 280 Loss G.: 0.7012020945549011\n",
      "Epoch: 290 Loss D.: 0.7360503673553467\n",
      "Epoch: 290 Loss G.: 0.697555422782898\n"
     ]
    }
   ],
   "source": [
    "for epoch in range(num_epochs):\n",
    "    for n, (real_samples, _) in enumerate(train_loader):\n",
    "        # Data for training the discriminator\n",
    "        real_samples_labels = torch.ones((batch_size, 1))\n",
    "        latent_space_samples = torch.randn((batch_size, 2))\n",
    "        generated_samples = generator(latent_space_samples)\n",
    "        generated_samples_labels = torch.zeros((batch_size, 1))\n",
    "        all_samples = torch.cat((real_samples, generated_samples))\n",
    "        all_samples_labels = torch.cat(\n",
    "            (real_samples_labels, generated_samples_labels)\n",
    "        )\n",
    "\n",
    "        # Training the discriminator\n",
    "        discriminator.zero_grad()\n",
    "        output_discriminator = discriminator(all_samples)\n",
    "        loss_discriminator = loss_function(\n",
    "            output_discriminator, all_samples_labels)\n",
    "        loss_discriminator.backward()\n",
    "        optimizer_discriminator.step()\n",
    "\n",
    "        # Data for training the generator\n",
    "        latent_space_samples = torch.randn((batch_size, 2))\n",
    "\n",
    "        # Training the generator\n",
    "        generator.zero_grad()\n",
    "        generated_samples = generator(latent_space_samples)\n",
    "        output_discriminator_generated = discriminator(generated_samples)\n",
    "        loss_generator = loss_function(\n",
    "            output_discriminator_generated, real_samples_labels\n",
    "        )\n",
    "        loss_generator.backward()\n",
    "        optimizer_generator.step()\n",
    "\n",
    "        # Show loss\n",
    "        if epoch % 10 == 0 and n == batch_size - 1:\n",
    "            print(f\"Epoch: {epoch} Loss D.: {loss_discriminator}\")\n",
    "            print(f\"Epoch: {epoch} Loss G.: {loss_generator}\")"
   ]
  },
  {
   "cell_type": "code",
   "execution_count": 13,
   "id": "69f2bd0d-8a49-484a-84d4-664b61c35d0b",
   "metadata": {},
   "outputs": [],
   "source": [
    "latent_space_samples = torch.randn(100, 2)\n",
    "generated_samples = generator(latent_space_samples)"
   ]
  },
  {
   "cell_type": "code",
   "execution_count": 14,
   "id": "ee96796d-07b1-4ee9-b1d5-79949f089a22",
   "metadata": {},
   "outputs": [
    {
     "data": {
      "text/plain": [
       "[<matplotlib.lines.Line2D at 0x1eecf037d40>]"
      ]
     },
     "execution_count": 14,
     "metadata": {},
     "output_type": "execute_result"
    }
   ],
   "source": [
    "generated_samples = generated_samples.detach()\n",
    "plt.plot(generated_samples[:, 0], generated_samples[:, 1], \".\")"
   ]
  },
  {
   "cell_type": "code",
   "execution_count": 15,
   "id": "600c7d7e-be21-49de-9ef4-87f9378be4f3",
   "metadata": {},
   "outputs": [
    {
     "data": {
      "text/plain": [
       "tensor([[ 1.0624,  0.9014],\n",
       "        [ 3.7070, -0.5651],\n",
       "        [ 1.7968,  1.0005],\n",
       "        [ 1.5020,  1.0356],\n",
       "        [ 2.8605,  0.2287],\n",
       "        [ 0.2720,  0.3065],\n",
       "        [ 5.8030,  0.0683],\n",
       "        [ 0.6268,  0.6052],\n",
       "        [ 3.4981, -0.3757],\n",
       "        [ 3.8958, -0.7212],\n",
       "        [ 0.6414,  0.6239],\n",
       "        [ 4.8305, -0.9712],\n",
       "        [ 2.3808,  0.6713],\n",
       "        [ 5.7797, -0.2467],\n",
       "        [ 3.9632, -0.7576],\n",
       "        [ 2.3912,  0.6731],\n",
       "        [ 5.6864, -0.4606],\n",
       "        [ 5.6860, -0.3285],\n",
       "        [ 1.0040,  0.8699],\n",
       "        [ 3.7615, -0.6254],\n",
       "        [ 4.8772, -0.9591],\n",
       "        [ 3.5233, -0.3922],\n",
       "        [ 5.3365, -0.6542],\n",
       "        [ 1.6349,  1.0278],\n",
       "        [ 1.8248,  1.0044],\n",
       "        [ 4.7032, -0.9912],\n",
       "        [ 2.3623,  0.6933],\n",
       "        [ 2.0088,  0.9257],\n",
       "        [ 1.3600,  1.0099],\n",
       "        [ 0.5252,  0.5317],\n",
       "        [ 4.6842, -1.0139],\n",
       "        [ 2.7776,  0.3186],\n",
       "        [ 0.9989,  0.8727],\n",
       "        [ 2.6012,  0.5004],\n",
       "        [ 3.4045, -0.2722],\n",
       "        [ 3.8580, -0.6970],\n",
       "        [ 2.7488,  0.3343],\n",
       "        [ 2.6984,  0.4248],\n",
       "        [ 2.3594,  0.7070],\n",
       "        [ 1.7069,  1.0310],\n",
       "        [ 0.6916,  0.6588],\n",
       "        [ 5.7187, -0.4097],\n",
       "        [ 3.9473, -0.7563],\n",
       "        [ 0.7733,  0.7316],\n",
       "        [ 0.1211,  0.1380],\n",
       "        [ 4.5873, -0.9950],\n",
       "        [ 5.3129, -0.6830],\n",
       "        [ 1.4700,  1.0355],\n",
       "        [ 1.0452,  0.8886],\n",
       "        [ 4.0075, -0.7711],\n",
       "        [ 4.3431, -0.9301],\n",
       "        [ 4.7674, -1.0123],\n",
       "        [ 5.7944, -0.4007],\n",
       "        [ 3.2101, -0.0978],\n",
       "        [ 5.8510, -0.1291],\n",
       "        [ 4.8318, -0.9647],\n",
       "        [ 5.6118, -0.1961],\n",
       "        [ 5.7814, -0.3797],\n",
       "        [ 5.6330, -0.5174],\n",
       "        [ 4.3739, -0.9394],\n",
       "        [ 0.7214,  0.6950],\n",
       "        [ 3.6674, -0.5207],\n",
       "        [ 4.6928, -1.0071],\n",
       "        [ 4.2585, -0.9032],\n",
       "        [ 1.4682,  1.0287],\n",
       "        [ 2.2336,  0.8029],\n",
       "        [ 4.7665, -1.0135],\n",
       "        [ 5.6215, -0.1837],\n",
       "        [ 4.7977, -0.9799],\n",
       "        [ 1.6390,  1.0290],\n",
       "        [ 5.7307, -0.0272],\n",
       "        [ 3.2993, -0.1914],\n",
       "        [ 0.6972,  0.6772],\n",
       "        [ 1.6458,  1.0248],\n",
       "        [ 4.7329, -1.0137],\n",
       "        [ 2.4138,  0.6501],\n",
       "        [ 4.8726, -0.9541],\n",
       "        [ 1.5481,  1.0306],\n",
       "        [ 0.5829,  0.5773],\n",
       "        [ 5.4627, -0.6124],\n",
       "        [ 3.9584, -0.7549],\n",
       "        [ 3.4974, -0.3638],\n",
       "        [ 2.7838,  0.3020],\n",
       "        [ 5.6837, -0.3448],\n",
       "        [ 4.6927, -1.0050],\n",
       "        [ 0.6792,  0.6493],\n",
       "        [ 2.5703,  0.5216],\n",
       "        [ 0.6003,  0.5897],\n",
       "        [ 0.7390,  0.7075],\n",
       "        [ 3.9204, -0.7362],\n",
       "        [ 2.8606,  0.2531],\n",
       "        [ 3.8540, -0.6914],\n",
       "        [ 0.7308,  0.6879],\n",
       "        [ 0.9509,  0.8411],\n",
       "        [ 3.5221, -0.3918],\n",
       "        [ 0.2581,  0.3222],\n",
       "        [ 5.2924, -0.7167],\n",
       "        [ 2.9914,  0.1072],\n",
       "        [ 5.6492, -0.5043],\n",
       "        [ 1.4911,  1.0313]])"
      ]
     },
     "execution_count": 15,
     "metadata": {},
     "output_type": "execute_result"
    }
   ],
   "source": [
    "generated_samples"
   ]
  },
  {
   "cell_type": "code",
   "execution_count": null,
   "id": "ae63930d-02e4-41f2-a442-bffe3949acb8",
   "metadata": {},
   "outputs": [],
   "source": []
  }
 ],
 "metadata": {
  "kernelspec": {
   "display_name": "Python 3 (ipykernel)",
   "language": "python",
   "name": "python3"
  },
  "language_info": {
   "codemirror_mode": {
    "name": "ipython",
    "version": 3
   },
   "file_extension": ".py",
   "mimetype": "text/x-python",
   "name": "python",
   "nbconvert_exporter": "python",
   "pygments_lexer": "ipython3",
   "version": "3.12.7"
  }
 },
 "nbformat": 4,
 "nbformat_minor": 5
}

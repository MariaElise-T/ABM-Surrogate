{
 "cells": [
  {
   "cell_type": "code",
   "execution_count": null,
   "id": "b9a4df50-4b5b-42d1-8541-1a00bfccac15",
   "metadata": {},
   "outputs": [],
   "source": [
    "import mesa\n",
    "import os\n",
    "\n",
    "mesa_dir = os.path.dirname(mesa.__file__)\n",
    "print(mesa.__version__)\n",
    "print(mesa.__file__)\n",
    "print(\"Mesa directory:\", mesa_dir)\n",
    "print(\"Contents:\", os.listdir(mesa_dir))\n",
    "import random\n",
    "random.seed(0)\n",
    "import warnings\n",
    "warnings.filterwarnings(\"ignore\")\n",
    "import sys\n",
    "import numpy as np\n",
    "import pandas as pd\n",
    "from sklearn.metrics import mean_squared_error, mean_absolute_error, r2_score\n",
    "\n",
    "sys.path.append(\"C:/Users/met48/Desktop/TS-Clustering/mesa-examples-main/mesa-examples-main/examples/bank_reserves/\") \n",
    "from bank_reserves import random_walk as bankReservesRandomWalk\n",
    "from bank_reserves import agents as bankReservesAgent\n",
    "from bank_reserves import model as bankReservesModel\n",
    "\n",
    "sys.path.append(\"C:/Users/met48/Desktop/TS-Clustering/mesa-examples-main/mesa-examples-main/examples/epstein_civil_violence/\") \n",
    "from epstein_civil_violence import __init__ as epsteinInit\n",
    "from epstein_civil_violence import agent as epsteinCVAgent\n",
    "from epstein_civil_violence import model as epsteinCVModel\n",
    "\n",
    "import time\n",
    "from sklearn.preprocessing import MinMaxScaler"
   ]
  },
  {
   "cell_type": "code",
   "execution_count": 2,
   "id": "a36a60ea-5a48-4ee5-899d-fd0cf0958239",
   "metadata": {},
   "outputs": [],
   "source": [
    "def generate_epstein_samples(inputs):  \n",
    "    all_outputs = []\n",
    "\n",
    "    for i in range(len(inputs)):\n",
    "        if i % 100 == 0:\n",
    "            print(i)\n",
    "        row = inputs.iloc[i]\n",
    "        cit_dens = row[0]\n",
    "        cop_dens = row[1]\n",
    "        leg = row[2]\n",
    "        \n",
    "        # Run the Epstein model\n",
    "        bankRes = epsteinCVModel.EpsteinCivilViolence(\n",
    "            citizen_density=cit_dens,\n",
    "            cop_density=cop_dens,\n",
    "            citizen_vision=5,\n",
    "            cop_vision=5,\n",
    "            legitimacy=leg,\n",
    "            max_jail_term=30,\n",
    "            active_threshold=0.1,\n",
    "            arrest_prob_constant=2.3,\n",
    "            movement=True,\n",
    "            max_iters=250\n",
    "        )\n",
    "        bankRes.run_model()\n",
    "\n",
    "        # Collect the time series of \"Active\" agents\n",
    "        results = bankRes.datacollector.get_model_vars_dataframe()\n",
    "        active_series = results['Active'].to_list()\n",
    "\n",
    "        # Add to list of all outputs\n",
    "        all_outputs.append(active_series)\n",
    "\n",
    "    # Convert to DataFrame: each row = one run, columns = time steps\n",
    "    outputs_df = pd.DataFrame(all_outputs)\n",
    "    return outputs_df\n"
   ]
  },
  {
   "cell_type": "code",
   "execution_count": 8,
   "id": "62634efd-1fbc-4fc3-8f0b-f56b934b5be4",
   "metadata": {},
   "outputs": [],
   "source": [
    "def generate_br_samples(inputs):\n",
    "    \n",
    "    all_outputs = []\n",
    "\n",
    "    for i in range(len(inputs)):\n",
    "        if i % 100 == 0:\n",
    "            print(i)\n",
    "        row = inputs.iloc[i]\n",
    "        reserve_perc = row[0]\n",
    "        \n",
    "        # Run the Epstein model\n",
    "        bankRes = bankReservesModel.BankReserves(init_people=500, rich_threshold=10, reserve_percent=reserve_perc)\n",
    "        bankRes.run_model()\n",
    "\n",
    "        # Collect the time series of \"Active\" agents        \n",
    "        results = bankRes.datacollector.get_model_vars_dataframe()\n",
    "        active_series = results['Poor'].to_list()\n",
    "\n",
    "        # Add to list of all outputs\n",
    "        all_outputs.append(active_series)\n",
    "\n",
    "    # Convert to DataFrame: each row = one run, columns = time steps\n",
    "    outputs_df = pd.DataFrame(all_outputs)\n",
    "    return outputs_df"
   ]
  },
  {
   "cell_type": "code",
   "execution_count": 4,
   "id": "49a61952-371b-413d-a20f-2f4215304def",
   "metadata": {},
   "outputs": [],
   "source": [
    "def evaluate_model_gan(real_samples, generated_samples):\n",
    "\n",
    "    # convert list to numpy arrays\n",
    "    predicted_values = generated_samples.to_numpy()  # [N, 255, 1]\n",
    "    true_values = real_samples.to_numpy()            # [N, 255, 1]\n",
    "\n",
    "    # flatten for metrics\n",
    "    y_pred_flat = predicted_values.flatten()\n",
    "    y_true_flat = true_values.flatten()\n",
    "    \n",
    "    # compute evaluation metrics\n",
    "    mse = mean_squared_error(y_true_flat, y_pred_flat)\n",
    "    mae = mean_absolute_error(y_true_flat, y_pred_flat)\n",
    "    r2 = r2_score(y_true_flat, y_pred_flat)\n",
    "\n",
    "    print(f\"Validation MSE: {mse:.6f}\")\n",
    "    print(f\"Validation MAE: {mae:.6f}\")\n",
    "    print(f\"Validation R² Score: {r2:.6f}\")\n",
    "\n",
    "    return mse, mae, r2"
   ]
  },
  {
   "cell_type": "markdown",
   "id": "75515110-10e4-45a2-a294-a2b93fd21ff8",
   "metadata": {},
   "source": [
    "# Bank Reserves"
   ]
  },
  {
   "cell_type": "code",
   "execution_count": 11,
   "id": "cd582344-7a3d-4c0f-afa1-f41255a0ba85",
   "metadata": {},
   "outputs": [],
   "source": [
    "valid_inputs_br = pd.read_csv(\"valid_inputs_br.csv\")\n",
    "valid_outputs_br = pd.read_csv(\"valid_outputs_br.csv\")"
   ]
  },
  {
   "cell_type": "code",
   "execution_count": 12,
   "id": "19fb4db7-ade9-4d23-b617-7cdc313ad782",
   "metadata": {},
   "outputs": [
    {
     "name": "stdout",
     "output_type": "stream",
     "text": [
      "0\n",
      "100\n",
      "200\n",
      "300\n",
      "400\n",
      "500\n",
      "600\n",
      "700\n",
      "800\n",
      "900\n",
      "1000\n",
      "1100\n",
      "1200\n",
      "1300\n",
      "1400\n",
      "1500\n",
      "1600\n",
      "1700\n",
      "1800\n",
      "1900\n",
      "2000\n",
      "2100\n",
      "2200\n",
      "2300\n",
      "2400\n",
      "2500\n",
      "2600\n",
      "2700\n",
      "2800\n",
      "2900\n",
      "3000\n",
      "3100\n",
      "3200\n",
      "3300\n",
      "3400\n",
      "3500\n",
      "3600\n",
      "3700\n",
      "3800\n",
      "3900\n"
     ]
    }
   ],
   "source": [
    "df_br = generate_br_samples(valid_inputs_br)"
   ]
  },
  {
   "cell_type": "code",
   "execution_count": 13,
   "id": "db350d19-9366-4bef-a78f-ef36cfc53532",
   "metadata": {},
   "outputs": [],
   "source": [
    "df_br.to_csv(\"validation_set_dup_br.csv\", index=False)"
   ]
  },
  {
   "cell_type": "code",
   "execution_count": 14,
   "id": "e1585dea-c415-4592-b88b-5e2a865d04c3",
   "metadata": {},
   "outputs": [
    {
     "name": "stdout",
     "output_type": "stream",
     "text": [
      "Validation MSE: 0.006567\n",
      "Validation MAE: 0.052487\n",
      "Validation R² Score: 0.934792\n"
     ]
    },
    {
     "data": {
      "text/plain": [
       "(0.006567412579512853, 0.0524874867984366, 0.934791711922361)"
      ]
     },
     "execution_count": 14,
     "metadata": {},
     "output_type": "execute_result"
    }
   ],
   "source": [
    "scaler = MinMaxScaler()\n",
    "\n",
    "valid_outputs_br_std = scaler.fit_transform(valid_outputs_br)\n",
    "valid_outputs_br_std = pd.DataFrame(valid_outputs_br_std)\n",
    "\n",
    "df_br_std = scaler.fit_transform(df_br)\n",
    "df_br_std = pd.DataFrame(df_br_std)\n",
    "\n",
    "evaluate_model_gan(valid_outputs_br_std, df_br_std)"
   ]
  },
  {
   "cell_type": "markdown",
   "id": "d04411a3-d020-446e-9151-07e2819f2654",
   "metadata": {},
   "source": [
    "# Epstein"
   ]
  },
  {
   "cell_type": "code",
   "execution_count": 2,
   "id": "e32ca252-5604-4d20-9d1d-1641eb3953d5",
   "metadata": {},
   "outputs": [],
   "source": [
    "valid_inputs_epstein = pd.read_csv(\"valid_inputs_epstein.csv\")\n",
    "valid_outputs_epstein = pd.read_csv(\"valid_outputs_epstein.csv\")"
   ]
  },
  {
   "cell_type": "code",
   "execution_count": null,
   "id": "9e38cff5-fdbc-44b0-a60b-9f08471c2fc4",
   "metadata": {},
   "outputs": [],
   "source": [
    "import multiprocessing\n",
    "from functools import partial\n",
    "from tqdm import tqdm\n",
    "import pickle\n",
    "\n",
    "from epstein_civil_violence import model as epsteinCVModel\n",
    "\n",
    "# === CONFIGURATION ===\n",
    "SAVE_EVERY = 10\n",
    "SAVE_DIR = \"simulation_outputs_epstein\"\n",
    "os.makedirs(SAVE_DIR, exist_ok=True)\n",
    "\n",
    "def run_single_sim(row_index, row):\n",
    "    cit_dens, cop_dens, leg = row\n",
    "\n",
    "    try:\n",
    "        model = epsteinCVModel.EpsteinCivilViolence(\n",
    "            citizen_density=cit_dens,\n",
    "            cop_density=cop_dens,\n",
    "            citizen_vision=5,\n",
    "            cop_vision=5,\n",
    "            legitimacy=leg,\n",
    "            max_jail_term=30,\n",
    "            active_threshold=0.1,\n",
    "            arrest_prob_constant=2.3,\n",
    "            movement=True,\n",
    "            max_iters=250\n",
    "        )\n",
    "        model.run_model()\n",
    "        results = model.datacollector.get_model_vars_dataframe()\n",
    "        return (row_index, results['Active'].to_list())\n",
    "    except Exception as e:\n",
    "        print(f\"Simulation {row_index} failed: {e}\")\n",
    "        return (row_index, None)\n",
    "\n",
    "def save_partial_results(partial_results, batch_id):\n",
    "    df = pd.DataFrame([r[1] for r in partial_results if r[1] is not None])\n",
    "    df.to_csv(os.path.join(SAVE_DIR, f\"outputs_batch_{batch_id}.csv\"), index=False)\n",
    "\n",
    "def generate_epstein_samples_parallel(inputs, num_workers=None):\n",
    "    if num_workers is None:\n",
    "        num_workers = max(1, multiprocessing.cpu_count() - 1\n",
    "        print(\"Number of workers is: \", num_workers)\n",
    "\n",
    "    total = len(inputs)\n",
    "    batches = [inputs.iloc[i:i+SAVE_EVERY] for i in range(0, total, SAVE_EVERY)]\n",
    "    all_results = []\n",
    "\n",
    "    for batch_id, batch_df in enumerate(tqdm(batches, desc=\"Batches\")):\n",
    "        pool = multiprocessing.Pool(processes=num_workers)\n",
    "        rows = list(batch_df.itertuples(index=False, name=None))\n",
    "        row_indices = list(batch_df.index)\n",
    "\n",
    "        run_fn = partial(run_single_sim)\n",
    "        batch_results = pool.starmap(run_single_sim, zip(row_indices, rows))\n",
    "        pool.close()\n",
    "        pool.join()\n",
    "\n",
    "        save_partial_results(batch_results, batch_id)\n",
    "        all_results.extend(batch_results)\n",
    "\n",
    "    # Merge all valid rows\n",
    "    final_df = pd.DataFrame([r[1] for r in all_results if r[1] is not None])\n",
    "    return final_df"
   ]
  },
  {
   "cell_type": "code",
   "execution_count": null,
   "id": "8d314dea-020d-4e08-adca-50cc3177d129",
   "metadata": {},
   "outputs": [],
   "source": [
    "df_epstein = generate_epstein_samples_parallel(valid_inputs_epstein, None)"
   ]
  },
  {
   "cell_type": "code",
   "execution_count": null,
   "id": "ae573509-3f17-4901-99fa-6eda51e45765",
   "metadata": {},
   "outputs": [],
   "source": [
    "df_epstein.to_csv(\"validation_set_dup_ecv.csv\", index=False)"
   ]
  },
  {
   "cell_type": "code",
   "execution_count": null,
   "id": "ae4f86dd-da2c-4d6c-826f-c3824f284a63",
   "metadata": {},
   "outputs": [],
   "source": [
    "scaler = MinMaxScaler()\n",
    "\n",
    "valid_outputs_ecv_std = scaler.fit_transform(valid_outputs_epstein)\n",
    "valid_outputs_ecv_std = pd.DataFrame(valid_outputs_ecv_std)\n",
    "\n",
    "df_ecv_std = scaler.fit_transform(df_epstein)\n",
    "df_ecv_std = pd.DataFrame(df_ecv_std)\n",
    "\n",
    "evaluate_model_gan(valid_outputs_br_std, df_br_std)"
   ]
  },
  {
   "cell_type": "code",
   "execution_count": null,
   "id": "266df897-3e5a-466c-93f7-55454533824c",
   "metadata": {},
   "outputs": [],
   "source": []
  }
 ],
 "metadata": {
  "kernelspec": {
   "display_name": "Python 3 (ipykernel)",
   "language": "python",
   "name": "python3"
  },
  "language_info": {
   "codemirror_mode": {
    "name": "ipython",
    "version": 3
   },
   "file_extension": ".py",
   "mimetype": "text/x-python",
   "name": "python",
   "nbconvert_exporter": "python",
   "pygments_lexer": "ipython3",
   "version": "3.12.7"
  }
 },
 "nbformat": 4,
 "nbformat_minor": 5
}

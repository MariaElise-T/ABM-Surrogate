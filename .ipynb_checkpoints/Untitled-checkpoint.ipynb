{
 "cells": [
  {
   "cell_type": "code",
   "execution_count": 1,
   "id": "9d2e58c2-f528-49a8-add7-cbb3c1a9c560",
   "metadata": {},
   "outputs": [],
   "source": [
    "import torch\n",
    "from torch import nn\n",
    "\n",
    "import math\n",
    "import matplotlib.pyplot as plt"
   ]
  },
  {
   "cell_type": "code",
   "execution_count": 2,
   "id": "bbed96ae-04e8-475c-b95f-6216e57c463c",
   "metadata": {},
   "outputs": [
    {
     "data": {
      "text/plain": [
       "<torch._C.Generator at 0x1871c9fbf70>"
      ]
     },
     "execution_count": 2,
     "metadata": {},
     "output_type": "execute_result"
    }
   ],
   "source": [
    "torch.manual_seed(1)"
   ]
  },
  {
   "cell_type": "code",
   "execution_count": 3,
   "id": "e44a0c93-ae06-43e4-841c-ac3a4ef3e3b0",
   "metadata": {},
   "outputs": [],
   "source": [
    "train_data_length = 1024\n",
    "train_data = torch.zeros((train_data_length, 2))\n",
    "train_data[:, 0] = 2 * math.pi * torch.rand(train_data_length)\n",
    "train_data[:, 1] = torch.sin(train_data[:, 0])\n",
    "train_labels = torch.zeros(train_data_length)\n",
    "train_set = [\n",
    "    (train_data[i], train_labels[i]) for i in range(train_data_length)\n",
    "]"
   ]
  },
  {
   "cell_type": "code",
   "execution_count": 4,
   "id": "350e7e18-b8e1-47b2-a2ab-a9934ac95fba",
   "metadata": {},
   "outputs": [
    {
     "data": {
      "text/plain": [
       "tensor([0., 0., 0.,  ..., 0., 0., 0.])"
      ]
     },
     "execution_count": 4,
     "metadata": {},
     "output_type": "execute_result"
    }
   ],
   "source": [
    "train_labels"
   ]
  },
  {
   "cell_type": "code",
   "execution_count": null,
   "id": "2b177a5c-df5a-4c84-bef1-a291ec982171",
   "metadata": {},
   "outputs": [
    {
     "data": {
      "text/plain": [
       "[<matplotlib.lines.Line2D at 0x18721a1b680>]"
      ]
     },
     "execution_count": 5,
     "metadata": {},
     "output_type": "execute_result"
    }
   ],
   "source": [
    "plt.plot(train_data[:, 0], train_data[:, 1], \".\")"
   ]
  },
  {
   "cell_type": "code",
   "execution_count": 4,
   "id": "daee5a6a-9161-4984-b1ed-337a0925ddd3",
   "metadata": {},
   "outputs": [],
   "source": [
    "batch_size = 32\n",
    "train_loader = torch.utils.data.DataLoader(\n",
    "    train_set, batch_size=batch_size, shuffle=True\n",
    ")"
   ]
  },
  {
   "cell_type": "code",
   "execution_count": 5,
   "id": "d4638888-fd16-4f12-b76d-e7e104c94124",
   "metadata": {},
   "outputs": [],
   "source": [
    "class Discriminator(nn.Module):\n",
    "    def __init__(self):\n",
    "        super().__init__()\n",
    "        self.model = nn.Sequential(\n",
    "            nn.Linear(2, 256),\n",
    "            nn.ReLU(),\n",
    "            nn.Dropout(0.3),\n",
    "            nn.Linear(256, 128),\n",
    "            nn.ReLU(),\n",
    "            nn.Dropout(0.3),\n",
    "            nn.Linear(128, 64),\n",
    "            nn.ReLU(),\n",
    "            nn.Dropout(0.3),\n",
    "            nn.Linear(64, 1),\n",
    "            nn.Sigmoid(),\n",
    "        )\n",
    "\n",
    "    def forward(self, x):\n",
    "        output = self.model(x)\n",
    "        return output"
   ]
  },
  {
   "cell_type": "code",
   "execution_count": 6,
   "id": "4914f9de-edaa-4d95-b0be-de36c4cd4230",
   "metadata": {},
   "outputs": [],
   "source": [
    "discriminator = Discriminator()"
   ]
  },
  {
   "cell_type": "code",
   "execution_count": 7,
   "id": "5b5fce61-cd8c-48e6-b95a-324a704ad266",
   "metadata": {},
   "outputs": [],
   "source": [
    "class Generator(nn.Module):\n",
    "    def __init__(self):\n",
    "        super().__init__()\n",
    "        self.model = nn.Sequential(\n",
    "            nn.Linear(2, 16),\n",
    "            nn.ReLU(),\n",
    "            nn.Linear(16, 32),\n",
    "            nn.ReLU(),\n",
    "            nn.Linear(32, 2),\n",
    "        )\n",
    "\n",
    "    def forward(self, x):\n",
    "        output = self.model(x)\n",
    "        return output\n",
    "\n",
    "generator = Generator()"
   ]
  },
  {
   "cell_type": "code",
   "execution_count": 8,
   "id": "ac4fb663-00dc-454b-88b8-2cab222c256a",
   "metadata": {},
   "outputs": [],
   "source": [
    "lr = 0.001\n",
    "num_epochs = 300\n",
    "loss_function = nn.BCELoss()"
   ]
  },
  {
   "cell_type": "code",
   "execution_count": 9,
   "id": "4f97b0a7-fe46-4afb-84a7-d37fd9b9d52b",
   "metadata": {},
   "outputs": [],
   "source": [
    "optimizer_discriminator = torch.optim.Adam(discriminator.parameters(), lr=lr)\n",
    "optimizer_generator = torch.optim.Adam(generator.parameters(), lr=lr)"
   ]
  },
  {
   "cell_type": "code",
   "execution_count": 10,
   "id": "f2fb0111-defd-4e0e-8da1-105b25efe908",
   "metadata": {},
   "outputs": [
    {
     "name": "stdout",
     "output_type": "stream",
     "text": [
      "Epoch: 0 Loss D.: 0.21308739483356476\n",
      "Epoch: 0 Loss G.: 1.7989581823349\n",
      "Epoch: 10 Loss D.: 0.6099681258201599\n",
      "Epoch: 10 Loss G.: 0.907738447189331\n",
      "Epoch: 20 Loss D.: 0.6200631856918335\n",
      "Epoch: 20 Loss G.: 0.9532092809677124\n",
      "Epoch: 30 Loss D.: 0.6277890205383301\n",
      "Epoch: 30 Loss G.: 0.9933774471282959\n",
      "Epoch: 40 Loss D.: 0.639619767665863\n",
      "Epoch: 40 Loss G.: 0.8615650534629822\n",
      "Epoch: 50 Loss D.: 0.6653093099594116\n",
      "Epoch: 50 Loss G.: 0.8684064745903015\n",
      "Epoch: 60 Loss D.: 0.6464164853096008\n",
      "Epoch: 60 Loss G.: 0.9181209206581116\n",
      "Epoch: 70 Loss D.: 0.6513052582740784\n",
      "Epoch: 70 Loss G.: 0.8436679244041443\n",
      "Epoch: 80 Loss D.: 0.6663874387741089\n",
      "Epoch: 80 Loss G.: 0.665390133857727\n",
      "Epoch: 90 Loss D.: 0.6980440616607666\n",
      "Epoch: 90 Loss G.: 0.6386311650276184\n",
      "Epoch: 100 Loss D.: 0.676981508731842\n",
      "Epoch: 100 Loss G.: 0.6501144170761108\n",
      "Epoch: 110 Loss D.: 0.6719574332237244\n",
      "Epoch: 110 Loss G.: 0.7596195340156555\n",
      "Epoch: 120 Loss D.: 0.6511386036872864\n",
      "Epoch: 120 Loss G.: 0.7798190712928772\n",
      "Epoch: 130 Loss D.: 0.6455970406532288\n",
      "Epoch: 130 Loss G.: 0.843818724155426\n",
      "Epoch: 140 Loss D.: 0.6063863039016724\n",
      "Epoch: 140 Loss G.: 0.7732622027397156\n",
      "Epoch: 150 Loss D.: 0.6634976863861084\n",
      "Epoch: 150 Loss G.: 0.7060377597808838\n",
      "Epoch: 160 Loss D.: 0.6565118432044983\n",
      "Epoch: 160 Loss G.: 0.7308933734893799\n",
      "Epoch: 170 Loss D.: 0.6604433655738831\n",
      "Epoch: 170 Loss G.: 0.8057333827018738\n",
      "Epoch: 180 Loss D.: 0.7225472331047058\n",
      "Epoch: 180 Loss G.: 0.7128403186798096\n",
      "Epoch: 190 Loss D.: 0.6783598065376282\n",
      "Epoch: 190 Loss G.: 0.7476072311401367\n",
      "Epoch: 200 Loss D.: 0.7174333930015564\n",
      "Epoch: 200 Loss G.: 0.7560107111930847\n",
      "Epoch: 210 Loss D.: 0.7198826670646667\n",
      "Epoch: 210 Loss G.: 0.7762298583984375\n",
      "Epoch: 220 Loss D.: 0.6653546094894409\n",
      "Epoch: 220 Loss G.: 0.7663302421569824\n",
      "Epoch: 230 Loss D.: 0.669019341468811\n",
      "Epoch: 230 Loss G.: 0.7290428280830383\n",
      "Epoch: 240 Loss D.: 0.6210270524024963\n",
      "Epoch: 240 Loss G.: 0.7702434062957764\n",
      "Epoch: 250 Loss D.: 0.6436771154403687\n",
      "Epoch: 250 Loss G.: 0.7108970284461975\n",
      "Epoch: 260 Loss D.: 0.6546527743339539\n",
      "Epoch: 260 Loss G.: 0.8421024680137634\n",
      "Epoch: 270 Loss D.: 0.6811378002166748\n",
      "Epoch: 270 Loss G.: 0.6975284218788147\n",
      "Epoch: 280 Loss D.: 0.7137166857719421\n",
      "Epoch: 280 Loss G.: 0.909566342830658\n",
      "Epoch: 290 Loss D.: 0.6672565340995789\n",
      "Epoch: 290 Loss G.: 0.9080756902694702\n"
     ]
    }
   ],
   "source": [
    "for epoch in range(num_epochs):\n",
    "    for n, (real_samples, _) in enumerate(train_loader):\n",
    "        # Data for training the discriminator\n",
    "        real_samples_labels = torch.ones((batch_size, 1))\n",
    "        latent_space_samples = torch.randn((batch_size, 2))\n",
    "        generated_samples = generator(latent_space_samples)\n",
    "        generated_samples_labels = torch.zeros((batch_size, 1))\n",
    "        all_samples = torch.cat((real_samples, generated_samples))\n",
    "        all_samples_labels = torch.cat(\n",
    "            (real_samples_labels, generated_samples_labels)\n",
    "        )\n",
    "\n",
    "        # Training the discriminator\n",
    "        discriminator.zero_grad()\n",
    "        output_discriminator = discriminator(all_samples)\n",
    "        loss_discriminator = loss_function(\n",
    "            output_discriminator, all_samples_labels)\n",
    "        loss_discriminator.backward()\n",
    "        optimizer_discriminator.step()\n",
    "\n",
    "        # Data for training the generator\n",
    "        latent_space_samples = torch.randn((batch_size, 2))\n",
    "\n",
    "        # Training the generator\n",
    "        generator.zero_grad()\n",
    "        generated_samples = generator(latent_space_samples)\n",
    "        output_discriminator_generated = discriminator(generated_samples)\n",
    "        loss_generator = loss_function(\n",
    "            output_discriminator_generated, real_samples_labels\n",
    "        )\n",
    "        loss_generator.backward()\n",
    "        optimizer_generator.step()\n",
    "\n",
    "        # Show loss\n",
    "        if epoch % 10 == 0 and n == batch_size - 1:\n",
    "            print(f\"Epoch: {epoch} Loss D.: {loss_discriminator}\")\n",
    "            print(f\"Epoch: {epoch} Loss G.: {loss_generator}\")"
   ]
  },
  {
   "cell_type": "code",
   "execution_count": 11,
   "id": "69f2bd0d-8a49-484a-84d4-664b61c35d0b",
   "metadata": {},
   "outputs": [],
   "source": [
    "latent_space_samples = torch.randn(100, 2)\n",
    "generated_samples = generator(latent_space_samples)"
   ]
  },
  {
   "cell_type": "code",
   "execution_count": null,
   "id": "ee96796d-07b1-4ee9-b1d5-79949f089a22",
   "metadata": {},
   "outputs": [
    {
     "data": {
      "text/plain": [
       "[<matplotlib.lines.Line2D at 0x1bd526a0b30>]"
      ]
     },
     "execution_count": 12,
     "metadata": {},
     "output_type": "execute_result"
    }
   ],
   "source": [
    "generated_samples = generated_samples.detach()\n",
    "plt.plot(generated_samples[:, 0], generated_samples[:, 1], \".\")"
   ]
  },
  {
   "cell_type": "code",
   "execution_count": null,
   "id": "600c7d7e-be21-49de-9ef4-87f9378be4f3",
   "metadata": {},
   "outputs": [],
   "source": []
  }
 ],
 "metadata": {
  "kernelspec": {
   "display_name": "Python 3 (ipykernel)",
   "language": "python",
   "name": "python3"
  },
  "language_info": {
   "codemirror_mode": {
    "name": "ipython",
    "version": 3
   },
   "file_extension": ".py",
   "mimetype": "text/x-python",
   "name": "python",
   "nbconvert_exporter": "python",
   "pygments_lexer": "ipython3",
   "version": "3.12.7"
  }
 },
 "nbformat": 4,
 "nbformat_minor": 5
}

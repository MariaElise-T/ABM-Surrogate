{
 "cells": [
  {
   "cell_type": "code",
   "execution_count": 33,
   "id": "cbfa1dcf",
   "metadata": {},
   "outputs": [],
   "source": [
    "import pandas as pd\n",
    "import numpy as np\n",
    "import matplotlib.pyplot as plt\n",
    "from statistics import linear_regression\n",
    "import datetime\n",
    "import random\n",
    "import tslearn\n",
    "import scipy\n",
    "from numpy.polynomial.polynomial import polyfit\n",
    "from sklearn.tree import DecisionTreeClassifier \n",
    "from sklearn.model_selection import train_test_split \n",
    "from sklearn import metrics \n",
    "from sklearn import linear_model\n",
    "random.seed(0)"
   ]
  },
  {
   "cell_type": "code",
   "execution_count": 34,
   "id": "668a55ad-ff19-4d55-b499-b1d57da8af1e",
   "metadata": {},
   "outputs": [
    {
     "name": "stdout",
     "output_type": "stream",
     "text": [
      "Python 3.12.7\n"
     ]
    }
   ],
   "source": [
    "! python --version"
   ]
  },
  {
   "cell_type": "code",
   "execution_count": 35,
   "id": "965fbe8b",
   "metadata": {},
   "outputs": [
    {
     "name": "stdout",
     "output_type": "stream",
     "text": [
      "3.12.7 | packaged by Anaconda, Inc. | (main, Oct  4 2024, 13:17:27) [MSC v.1929 64 bit (AMD64)]\n",
      "pandas==2.2.3\n",
      "numpy==1.26.4\n",
      "tslearn==0.6.3\n",
      "scipy==1.15.1\n"
     ]
    }
   ],
   "source": [
    "from print_versions import print_versions\n",
    "#from pandas import DataFrame\n",
    "import sys\n",
    "\n",
    "print(sys. version)\n",
    "print_versions(globals())"
   ]
  },
  {
   "cell_type": "markdown",
   "id": "5919d187-cb63-403d-8d1e-18865b62c690",
   "metadata": {},
   "source": [
    "# Bank Reserves"
   ]
  },
  {
   "cell_type": "code",
   "execution_count": 36,
   "id": "d3f89437",
   "metadata": {},
   "outputs": [],
   "source": [
    "br_poor = pd.read_csv(\"C:/Users/met48/Desktop/TS-Clustering/SimData/bank_reserves_outputs_poor.csv\", header=None)\n",
    "br_middle = pd.read_csv(\"C:/Users/met48/Desktop/TS-Clustering/SimData/bank_reserves_outputs_middle.csv\", header=None)\n",
    "br_rich = pd.read_csv(\"C:/Users/met48/Desktop/TS-Clustering/SimData/bank_reserves_outputs_rich.csv\", header=None)\n",
    "br_inputs = pd.read_csv(\"C:/Users/met48/Desktop/TS-Clustering/SimData/bank_reserves_inputs.csv\", header=None)"
   ]
  },
  {
   "cell_type": "code",
   "execution_count": 37,
   "id": "00f5fa92",
   "metadata": {},
   "outputs": [
    {
     "name": "stderr",
     "output_type": "stream",
     "text": [
      "C:\\Users\\met48\\AppData\\Local\\Temp\\ipykernel_19492\\2192925672.py:8: FutureWarning: `rcond` parameter will change to the default of machine precision times ``max(M, N)`` where M and N are the input matrix dimensions.\n",
      "To use the future default and silence this warning we advise to pass `rcond=None`, to keep using the old, explicitly pass `rcond=-1`.\n",
      "  a, _, _, _ = np.linalg.lstsq(x, y)\n"
     ]
    }
   ],
   "source": [
    "slopes_scipy = []\n",
    "#slopes_lr = []\n",
    "#intercepts_lr = []\n",
    "for index, row in br_poor.iterrows():\n",
    "    y = np.array(row)\n",
    "    x = np.arange(0, y.size)\n",
    "    x = x[:,np.newaxis]\n",
    "    a, _, _, _ = np.linalg.lstsq(x, y)\n",
    "    #slope, intercept = linear_regression(x, y, proportional=True)\n",
    "    slopes_scipy.append(a)\n",
    "    #slopes_lr.append(slope)\n",
    "    #intercepts_lr.append(intercept)"
   ]
  },
  {
   "cell_type": "code",
   "execution_count": 38,
   "id": "fed4ce61",
   "metadata": {},
   "outputs": [],
   "source": [
    "slopes_scipy = np.concatenate(slopes_scipy, axis=0)"
   ]
  },
  {
   "cell_type": "code",
   "execution_count": 39,
   "id": "3143d573",
   "metadata": {},
   "outputs": [],
   "source": [
    "br_inputs_arr = br_inputs.iloc[:, 0].to_numpy()"
   ]
  },
  {
   "cell_type": "code",
   "execution_count": 44,
   "id": "492f6641-9c90-46f0-a3e0-aee0ed48e14e",
   "metadata": {},
   "outputs": [
    {
     "data": {
      "text/plain": [
       "array([76.02257126, 78.36975458, 98.83249299, ..., 51.83870099,\n",
       "       61.8066298 , 67.07348799])"
      ]
     },
     "execution_count": 44,
     "metadata": {},
     "output_type": "execute_result"
    }
   ],
   "source": [
    "br_inputs_arr"
   ]
  },
  {
   "cell_type": "code",
   "execution_count": 46,
   "id": "2c4b1de1-85a2-4a77-ba5a-96cf05fa834f",
   "metadata": {},
   "outputs": [
    {
     "data": {
      "text/plain": [
       "array([[76.02257126],\n",
       "       [78.36975458],\n",
       "       [98.83249299],\n",
       "       ...,\n",
       "       [51.83870099],\n",
       "       [61.8066298 ],\n",
       "       [67.07348799]])"
      ]
     },
     "execution_count": 46,
     "metadata": {},
     "output_type": "execute_result"
    }
   ],
   "source": [
    "br_inputs_arr.reshape(-1, 1)"
   ]
  },
  {
   "cell_type": "code",
   "execution_count": 45,
   "id": "42fc8128-382e-4be3-a597-b0e00b2e6b53",
   "metadata": {},
   "outputs": [
    {
     "data": {
      "text/plain": [
       "array([ 0.50608246,  0.40145116, -0.        , ...,  1.3723984 ,\n",
       "        0.96106399,  0.82557411])"
      ]
     },
     "execution_count": 45,
     "metadata": {},
     "output_type": "execute_result"
    }
   ],
   "source": [
    "slopes_scipy"
   ]
  },
  {
   "cell_type": "code",
   "execution_count": 42,
   "id": "bc6126e9-e325-4b1e-b08c-b9a4863e2e02",
   "metadata": {},
   "outputs": [
    {
     "data": {
      "text/plain": [
       "0.8899843314952712"
      ]
     },
     "execution_count": 42,
     "metadata": {},
     "output_type": "execute_result"
    }
   ],
   "source": [
    "reg = linear_model.LinearRegression().fit(br_inputs_arr.reshape(-1, 1), slopes_scipy.reshape(-1, 1))\n",
    "reg.score(br_inputs_arr.reshape(-1, 1), slopes_scipy.reshape(-1, 1))"
   ]
  },
  {
   "cell_type": "code",
   "execution_count": 43,
   "id": "06fc5459",
   "metadata": {},
   "outputs": [
    {
     "data": {
      "text/plain": [
       "PearsonRResult(statistic=array([-0.94338981]), pvalue=array([0.]))"
      ]
     },
     "execution_count": 43,
     "metadata": {},
     "output_type": "execute_result"
    }
   ],
   "source": [
    "scipy.stats.pearsonr(br_inputs_arr, slopes_scipy)"
   ]
  },
  {
   "cell_type": "code",
   "execution_count": 35,
   "id": "6775ea04",
   "metadata": {},
   "outputs": [
    {
     "data": {
      "image/png": "[encoded data removed]",
      "text/plain": [
       "<Figure size 640x480 with 1 Axes>"
      ]
     },
     "metadata": {},
     "output_type": "display_data"
    }
   ],
   "source": [
    "b, m = polyfit(br_inputs_arr, slopes_scipy, 1)\n",
    "\n",
    "plt.plot(br_inputs_arr, slopes_scipy, '.')\n",
    "plt.plot(br_inputs_arr, b + m * br_inputs_arr, '-')\n",
    "plt.show()"
   ]
  },
  {
   "cell_type": "code",
   "execution_count": 37,
   "id": "ce7e020c-ee2b-4393-8e15-7730b569f8ef",
   "metadata": {},
   "outputs": [],
   "source": [
    "br_inputs_class = []\n",
    "for val in slopes_scipy:\n",
    "    if val < 0.5:\n",
    "        br_inputs_class.append(\"lt 0.5\")\n",
    "    elif val >= 0.5 and val < 1:\n",
    "        br_inputs_class.append(\"0.5-1\")\n",
    "    elif val >= 1 and val < 1.5:\n",
    "        br_inputs_class.append(\"1-1.5\")\n",
    "    else:\n",
    "        br_inputs_class.append(\"gt 1.5\")"
   ]
  },
  {
   "cell_type": "code",
   "execution_count": 43,
   "id": "02696d0c-e74c-4b00-819b-7899cda10d0f",
   "metadata": {},
   "outputs": [],
   "source": [
    "X_train, X_test, y_train, y_test = train_test_split(br_inputs_arr, br_inputs_class, test_size=0.2, random_state=1) "
   ]
  },
  {
   "cell_type": "code",
   "execution_count": 49,
   "id": "8edfd252-e9cf-4ce2-af9a-b7aed1851210",
   "metadata": {},
   "outputs": [],
   "source": [
    "clf = DecisionTreeClassifier()\n",
    "clf = clf.fit(X_train.reshape(-1, 1),y_train)\n",
    "y_pred = clf.predict(X_test.reshape(-1, 1))"
   ]
  },
  {
   "cell_type": "code",
   "execution_count": 51,
   "id": "14ddd276-c0cf-408b-b16c-5471d7037c26",
   "metadata": {},
   "outputs": [
    {
     "name": "stdout",
     "output_type": "stream",
     "text": [
      "Accuracy: 0.97015\n"
     ]
    }
   ],
   "source": [
    "print(\"Accuracy:\",metrics.accuracy_score(y_test, y_pred))"
   ]
  },
  {
   "cell_type": "markdown",
   "id": "5ad77bda-add9-4c59-8fa8-b4fe22786cca",
   "metadata": {},
   "source": [
    "# Epstein Civil Violence"
   ]
  },
  {
   "cell_type": "code",
   "execution_count": 47,
   "id": "07ac89da-bd9f-492e-97f5-8e0637c5e49e",
   "metadata": {},
   "outputs": [],
   "source": [
    "ecv_active = pd.read_csv(\"C:/Users/met48/Desktop/TS-Clustering/SimData/epsteinCV_outputs_active.csv\", header=None)\n",
    "ecv_jailed = pd.read_csv(\"C:/Users/met48/Desktop/TS-Clustering/SimData/epsteinCV_outputs_jailed.csv\", header=None)\n",
    "ecv_quiet = pd.read_csv(\"C:/Users/met48/Desktop/TS-Clustering/SimData/epsteinCV_outputs_quiet.csv\", header=None)\n",
    "ecv_inputs = pd.read_csv(\"C:/Users/met48/Desktop/TS-Clustering/SimData/epsteinCV_inputs.csv\", header=None, sep=\" \")"
   ]
  },
  {
   "cell_type": "code",
   "execution_count": 48,
   "id": "32d50ea7-82d1-483c-af6f-61480abe211d",
   "metadata": {},
   "outputs": [
    {
     "data": {
      "text/html": [
       "<div>\n",
       "<style scoped>\n",
       "    .dataframe tbody tr th:only-of-type {\n",
       "        vertical-align: middle;\n",
       "    }\n",
       "\n",
       "    .dataframe tbody tr th {\n",
       "        vertical-align: top;\n",
       "    }\n",
       "\n",
       "    .dataframe thead th {\n",
       "        text-align: right;\n",
       "    }\n",
       "</style>\n",
       "<table border=\"1\" class=\"dataframe\">\n",
       "  <thead>\n",
       "    <tr style=\"text-align: right;\">\n",
       "      <th></th>\n",
       "      <th>0</th>\n",
       "      <th>1</th>\n",
       "      <th>2</th>\n",
       "    </tr>\n",
       "  </thead>\n",
       "  <tbody>\n",
       "    <tr>\n",
       "      <th>0</th>\n",
       "      <td>0.579364</td>\n",
       "      <td>0.362797</td>\n",
       "      <td>0.045004</td>\n",
       "    </tr>\n",
       "    <tr>\n",
       "      <th>1</th>\n",
       "      <td>0.905778</td>\n",
       "      <td>0.049225</td>\n",
       "      <td>0.769210</td>\n",
       "    </tr>\n",
       "    <tr>\n",
       "      <th>2</th>\n",
       "      <td>0.761473</td>\n",
       "      <td>0.167152</td>\n",
       "      <td>0.565592</td>\n",
       "    </tr>\n",
       "    <tr>\n",
       "      <th>3</th>\n",
       "      <td>0.979122</td>\n",
       "      <td>0.007172</td>\n",
       "      <td>0.161529</td>\n",
       "    </tr>\n",
       "    <tr>\n",
       "      <th>4</th>\n",
       "      <td>0.521911</td>\n",
       "      <td>0.427794</td>\n",
       "      <td>0.762568</td>\n",
       "    </tr>\n",
       "    <tr>\n",
       "      <th>...</th>\n",
       "      <td>...</td>\n",
       "      <td>...</td>\n",
       "      <td>...</td>\n",
       "    </tr>\n",
       "    <tr>\n",
       "      <th>50357</th>\n",
       "      <td>0.988652</td>\n",
       "      <td>0.004317</td>\n",
       "      <td>0.274946</td>\n",
       "    </tr>\n",
       "    <tr>\n",
       "      <th>50358</th>\n",
       "      <td>0.726030</td>\n",
       "      <td>0.203366</td>\n",
       "      <td>0.597790</td>\n",
       "    </tr>\n",
       "    <tr>\n",
       "      <th>50359</th>\n",
       "      <td>0.849297</td>\n",
       "      <td>0.057407</td>\n",
       "      <td>0.704192</td>\n",
       "    </tr>\n",
       "    <tr>\n",
       "      <th>50360</th>\n",
       "      <td>0.976113</td>\n",
       "      <td>0.002261</td>\n",
       "      <td>0.987066</td>\n",
       "    </tr>\n",
       "    <tr>\n",
       "      <th>50361</th>\n",
       "      <td>0.946500</td>\n",
       "      <td>0.014863</td>\n",
       "      <td>0.399148</td>\n",
       "    </tr>\n",
       "  </tbody>\n",
       "</table>\n",
       "<p>50362 rows × 3 columns</p>\n",
       "</div>"
      ],
      "text/plain": [
       "              0         1         2\n",
       "0      0.579364  0.362797  0.045004\n",
       "1      0.905778  0.049225  0.769210\n",
       "2      0.761473  0.167152  0.565592\n",
       "3      0.979122  0.007172  0.161529\n",
       "4      0.521911  0.427794  0.762568\n",
       "...         ...       ...       ...\n",
       "50357  0.988652  0.004317  0.274946\n",
       "50358  0.726030  0.203366  0.597790\n",
       "50359  0.849297  0.057407  0.704192\n",
       "50360  0.976113  0.002261  0.987066\n",
       "50361  0.946500  0.014863  0.399148\n",
       "\n",
       "[50362 rows x 3 columns]"
      ]
     },
     "execution_count": 48,
     "metadata": {},
     "output_type": "execute_result"
    }
   ],
   "source": [
    "ecv_inputs"
   ]
  },
  {
   "cell_type": "code",
   "execution_count": 49,
   "id": "76312657-718a-498f-930e-da161bad3b9c",
   "metadata": {},
   "outputs": [
    {
     "name": "stderr",
     "output_type": "stream",
     "text": [
      "C:\\Users\\met48\\AppData\\Local\\Temp\\ipykernel_19492\\2294856357.py:8: FutureWarning: `rcond` parameter will change to the default of machine precision times ``max(M, N)`` where M and N are the input matrix dimensions.\n",
      "To use the future default and silence this warning we advise to pass `rcond=None`, to keep using the old, explicitly pass `rcond=-1`.\n",
      "  a, _, _, _ = np.linalg.lstsq(x, y)\n"
     ]
    }
   ],
   "source": [
    "slopes_scipy = []\n",
    "#slopes_lr = []\n",
    "#intercepts_lr = []\n",
    "for index, row in ecv_active.iterrows():\n",
    "    y = np.array(row)\n",
    "    x = np.arange(0, y.size)\n",
    "    x = x[:,np.newaxis]\n",
    "    a, _, _, _ = np.linalg.lstsq(x, y)\n",
    "    #slope, intercept = linear_regression(x, y, proportional=True)\n",
    "    slopes_scipy.append(a)\n",
    "    #slopes_lr.append(slope)\n",
    "    #intercepts_lr.append(intercept)"
   ]
  },
  {
   "cell_type": "code",
   "execution_count": 50,
   "id": "bc6bb0c0-29c1-4114-a45c-a6696caf20e1",
   "metadata": {},
   "outputs": [],
   "source": [
    "slopes_scipy = np.concatenate(slopes_scipy, axis=0)\n",
    "br_inputs_arr = ecv_inputs.to_numpy()"
   ]
  },
  {
   "cell_type": "code",
   "execution_count": 52,
   "id": "3d234913-320d-4c4a-b4fc-b23cfda999e1",
   "metadata": {},
   "outputs": [
    {
     "data": {
      "text/plain": [
       "array([[0.57936369, 0.36279704, 0.0450042 ],\n",
       "       [0.90577819, 0.04922511, 0.76920957],\n",
       "       [0.7614733 , 0.16715225, 0.5655921 ],\n",
       "       ...,\n",
       "       [0.84929667, 0.05740677, 0.70419192],\n",
       "       [0.97611302, 0.00226105, 0.98706616],\n",
       "       [0.94649952, 0.01486282, 0.39914755]])"
      ]
     },
     "execution_count": 52,
     "metadata": {},
     "output_type": "execute_result"
    }
   ],
   "source": [
    "br_inputs_arr.reshape(-1, 3)"
   ]
  },
  {
   "cell_type": "code",
   "execution_count": 53,
   "id": "f001bc0c-8e8e-4710-aead-19e1e15f1b89",
   "metadata": {},
   "outputs": [
    {
     "data": {
      "text/plain": [
       "0.30103337875167124"
      ]
     },
     "execution_count": 53,
     "metadata": {},
     "output_type": "execute_result"
    }
   ],
   "source": [
    "reg = linear_model.LinearRegression().fit(br_inputs_arr.reshape(-1, 3), slopes_scipy.reshape(-1, 1))\n",
    "reg.score(br_inputs_arr.reshape(-1, 3), slopes_scipy.reshape(-1, 1))"
   ]
  },
  {
   "cell_type": "code",
   "execution_count": 54,
   "id": "09747e88-55eb-4419-923f-9fb5b1785fdc",
   "metadata": {},
   "outputs": [],
   "source": [
    "br_inputs_class = []\n",
    "for val in slopes_scipy:\n",
    "    if val < 2:\n",
    "        br_inputs_class.append(\"lt 0.5\")\n",
    "    elif val >= 2 and val < 4:\n",
    "        br_inputs_class.append(\"0.5-1\")\n",
    "    elif val >= 4 and val < 6:\n",
    "        br_inputs_class.append(\"1-1.5\")\n",
    "    else:\n",
    "        br_inputs_class.append(\"gt 1.5\")"
   ]
  },
  {
   "cell_type": "code",
   "execution_count": 55,
   "id": "dcd834a2-9458-4f50-8da2-e63e5c5aec91",
   "metadata": {},
   "outputs": [],
   "source": [
    "X_train, X_test, y_train, y_test = train_test_split(br_inputs_arr, br_inputs_class, test_size=0.2, random_state=1) "
   ]
  },
  {
   "cell_type": "code",
   "execution_count": 57,
   "id": "924ad9f2-496d-4489-896c-2859b85f1bb2",
   "metadata": {},
   "outputs": [],
   "source": [
    "clf = DecisionTreeClassifier()\n",
    "clf = clf.fit(X_train.reshape(-1, 3),y_train)\n",
    "y_pred = clf.predict(X_test.reshape(-1, 3))"
   ]
  },
  {
   "cell_type": "code",
   "execution_count": 58,
   "id": "6f205efa-79e2-4008-a000-b98a4b5d9a18",
   "metadata": {},
   "outputs": [
    {
     "name": "stdout",
     "output_type": "stream",
     "text": [
      "Accuracy: 0.9478804725503822\n"
     ]
    }
   ],
   "source": [
    "print(\"Accuracy:\",metrics.accuracy_score(y_test, y_pred))"
   ]
  },
  {
   "cell_type": "markdown",
   "id": "a59840f9-fc88-4ec6-8d82-2653fe44d342",
   "metadata": {},
   "source": [
    "# Forest Fire"
   ]
  },
  {
   "cell_type": "code",
   "execution_count": 59,
   "id": "4216d8f0-bace-47dc-b9bb-8428192e6624",
   "metadata": {},
   "outputs": [],
   "source": [
    "def import_ff_data(filename):\n",
    "    expected_columns=155\n",
    "    data = []\n",
    "    with open(filename, 'r') as file:\n",
    "        for line in file:\n",
    "            row = line.strip().split(',')\n",
    "            if len(row) < expected_columns:\n",
    "                row += [np.nan] * (expected_columns - len(row))\n",
    "            data.append(row)\n",
    "    df = pd.DataFrame(data)\n",
    "    def fill_last_valid(row):\n",
    "        for i in range(1, len(row)):\n",
    "            if pd.isna(row[i]):\n",
    "                row[i] = row[i - 1]  \n",
    "        return row\n",
    "    df_filled = df.apply(fill_last_valid, axis=1)\n",
    "    return df_filled"
   ]
  },
  {
   "cell_type": "code",
   "execution_count": 61,
   "id": "2b6a07a8-1b30-4709-8cbc-040ddd57c560",
   "metadata": {},
   "outputs": [
    {
     "name": "stdout",
     "output_type": "stream",
     "text": [
      "check 1\n",
      "check 2\n"
     ]
    }
   ],
   "source": [
    "ff_onfire = import_ff_data(\"C:/Users/met48/Desktop/TS-Clustering/SimData/forest_fire_outputs_onfire.csv\")\n",
    "print(\"check 1\")\n",
    "ff_fine = import_ff_data(\"C:/Users/met48/Desktop/TS-Clustering/SimData/forest_fire_outputs_fine.csv\")\n",
    "print(\"check 2\")\n",
    "ff_burned = import_ff_data(\"C:/Users/met48/Desktop/TS-Clustering/SimData/forest_fire_outputs_burned.csv\")"
   ]
  },
  {
   "cell_type": "code",
   "execution_count": null,
   "id": "56e958c4-0e35-4e33-8218-a1280ca2e308",
   "metadata": {},
   "outputs": [],
   "source": []
  }
 ],
 "metadata": {
  "kernelspec": {
   "display_name": "Python 3 (ipykernel)",
   "language": "python",
   "name": "python3"
  },
  "language_info": {
   "codemirror_mode": {
    "name": "ipython",
    "version": 3
   },
   "file_extension": ".py",
   "mimetype": "text/x-python",
   "name": "python",
   "nbconvert_exporter": "python",
   "pygments_lexer": "ipython3",
   "version": "3.12.7"
  }
 },
 "nbformat": 4,
 "nbformat_minor": 5
}
